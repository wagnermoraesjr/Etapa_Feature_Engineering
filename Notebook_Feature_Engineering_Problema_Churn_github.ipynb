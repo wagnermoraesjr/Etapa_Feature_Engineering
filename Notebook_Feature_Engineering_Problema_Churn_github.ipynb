{
  "nbformat": 4,
  "nbformat_minor": 0,
  "metadata": {
    "colab": {
      "provenance": [],
      "mount_file_id": "1f0IhHHOeCqMQRAelSJmwEv-LwA0auVQw",
      "authorship_tag": "ABX9TyOhJ5OdmC4tQ8gNBWc/hVUZ",
      "include_colab_link": true
    },
    "kernelspec": {
      "name": "python3",
      "display_name": "Python 3"
    },
    "language_info": {
      "name": "python"
    }
  },
  "cells": [
    {
      "cell_type": "markdown",
      "metadata": {
        "id": "view-in-github",
        "colab_type": "text"
      },
      "source": [
        "<a href=\"https://colab.research.google.com/github/wagnermoraesjr/Etapa_Feature_Engineering/blob/main/Notebook_Feature_Engineering_Problema_Churn_github.ipynb\" target=\"_parent\"><img src=\"https://colab.research.google.com/assets/colab-badge.svg\" alt=\"Open In Colab\"/></a>"
      ]
    },
    {
      "cell_type": "markdown",
      "source": [
        "# **Feature Engineering**\n",
        "A Feature Engineering é um processo fundamental para ciência de dados. Ela se refere ao processo de criação e transformação de variáveis para melhorar o desempenho dos modelos de Machine Learning.<br><br>\n",
        "**Objetivo**\n",
        "\n",
        "Meu objetivo aqui é colocar em prática o aprendizado sobre Feature Engineering, o processo da criação de variáveis explicativas para serem utilizadas nos algoritmos de Machine Learning.<br><br>\n",
        "**Ferramentas**\n",
        "\n",
        "Quando se trata de dados volumosos, que geralmente é o que encontramos nessa etapa do processo, o ideal é trabalhar com o Spark, devido à sua capacidade de processamento distribuído e paralelismo. Sendo assim irei trabalhar com o **Spark em conjunto com o SQL**, pois é uma interface familiar e fácil de se trabalhar.<br><br>\n",
        "\n",
        "**Problema de Negócio**\n",
        "\n",
        "Para esse trabalho vou usar dados fictícios que simulam as operações de uma empresa que gostaria de avaliar a perda de clientes (Churn).<br><br>\n",
        "**Base de Dados**\n",
        "\n",
        "- **Base de Churn:** Com informações cadastrais de 1.000 pessoas.\n",
        "- **Base de Transações:** Contendo as transações históricas de compras feitas por essas pessoas, incluindo detalhes como data da compra, valor gasto e categoria do produto."
      ],
      "metadata": {
        "id": "sywfqmjmd3pH"
      }
    },
    {
      "cell_type": "markdown",
      "source": [
        "<br>"
      ],
      "metadata": {
        "id": "OcWFslGDiAtW"
      }
    },
    {
      "cell_type": "markdown",
      "source": [
        "##**Instalação e configuração do Apache Spark em nosso ambiente do Google Colab.**"
      ],
      "metadata": {
        "id": "aIQo_BlZiwjf"
      }
    },
    {
      "cell_type": "code",
      "execution_count": 54,
      "metadata": {
        "id": "jTwsKhdadbCS"
      },
      "outputs": [],
      "source": [
        "# Este comando instala o OpenJDK 8, que é uma implementação de código aberto da plataforma Java, necessária para executar o Apache Spark.\n",
        "!apt-get install openjdk-8-jdk-headless -qq > /dev/null\n",
        "\n",
        "# Baixa silenciosamente (sem imprimir mensagens no console) o arquivo tarball (.tgz) do Apache Spark versão 3.1.2 pré-compilado para Hadoop 3.2.\n",
        "!wget -q https://archive.apache.org/dist/spark/spark-3.1.2/spark-3.1.2-bin-hadoop3.2.tgz\n",
        "\n",
        "# Descompacta o arquivo tarball que foi baixado, extraindo os arquivos do Spark.\n",
        "!tar xf spark-3.1.2-bin-hadoop3.2.tgz\n",
        "\n",
        "# Instala silenciosamente o pacote Python chamado \"findspark\". Este pacote é útil para configurar o Spark em um ambiente Python, adicionando automaticamente o Spark ao caminho do sistema.\n",
        "!pip install -q findspark"
      ]
    },
    {
      "cell_type": "code",
      "source": [
        "# Configurações essenciais para que o sistema reconheça onde o Java e o Spark estão instalados, permitindo a execução correta de aplicativos Spark no ambiente Python.\n",
        "import os\n",
        "os.environ[\"JAVA_HOME\"] = \"/usr/lib/jvm/java-8-openjdk-amd64\"\n",
        "os.environ[\"SPARK_HOME\"] = \"/content/spark-3.1.2-bin-hadoop3.2\""
      ],
      "metadata": {
        "id": "rv0Bkts7iXYt"
      },
      "execution_count": 55,
      "outputs": []
    },
    {
      "cell_type": "code",
      "source": [
        "# Configura e inicializa o ambiente Spark para ser utilizado em um ambiente Python, permitindo a criação de DataFrames distribuídos e a execução de operações distribuídas usando o Apache Spark.\n",
        "import findspark\n",
        "findspark.init()\n",
        "from pyspark.sql import SparkSession\n",
        "spark = SparkSession.builder.master(\"local[*]\").getOrCreate()"
      ],
      "metadata": {
        "id": "w3q27Dt5iX1Z"
      },
      "execution_count": 56,
      "outputs": []
    },
    {
      "cell_type": "markdown",
      "source": [
        "<br>"
      ],
      "metadata": {
        "id": "b4U6ycpBWg_D"
      }
    },
    {
      "cell_type": "markdown",
      "source": [
        "## **Leitura da nossa base de dados.**"
      ],
      "metadata": {
        "id": "aD07LBaMi9a7"
      }
    },
    {
      "cell_type": "code",
      "source": [
        "# Lendo nossa base de público e criando um DataFrame no Spark.\n",
        "df_publico = spark.read.csv('/content/drive/MyDrive/Projetos_Big_Data_Analytics/Ciencia_de_Dados/Etapa_Feature_Engineering/base_churn.csv', header=True, inferSchema=True)\n",
        "df_publico.createOrReplaceTempView('df_publico')"
      ],
      "metadata": {
        "id": "hfXdccDFj6-l"
      },
      "execution_count": 57,
      "outputs": []
    },
    {
      "cell_type": "code",
      "source": [
        "# Lendo nossa base de transações e criando um DataFrame no Spark.\n",
        "df_transacoes = spark.read.csv('/content/drive/MyDrive/Projetos_Big_Data_Analytics/Ciencia_de_Dados/Etapa_Feature_Engineering/base_transacoes.csv', header=True, inferSchema=True)\n",
        "df_transacoes.createOrReplaceTempView('df_transacoes')"
      ],
      "metadata": {
        "id": "49XMOZqPjT6h"
      },
      "execution_count": 58,
      "outputs": []
    },
    {
      "cell_type": "markdown",
      "source": [
        "<br>"
      ],
      "metadata": {
        "id": "iGPlso9dWh_s"
      }
    },
    {
      "cell_type": "markdown",
      "source": [
        "## **Visualização dos DataFrames criados.**"
      ],
      "metadata": {
        "id": "NFjRLmKqkJM8"
      }
    },
    {
      "cell_type": "code",
      "source": [
        "# Exibindo a estrutura do schema do DataFrame ´df_publico´.\n",
        "df_publico.printSchema()"
      ],
      "metadata": {
        "colab": {
          "base_uri": "https://localhost:8080/"
        },
        "id": "RUMANluXk8pt",
        "outputId": "775e7137-3c41-44d0-ef7b-4ebaf9e6391d"
      },
      "execution_count": 59,
      "outputs": [
        {
          "output_type": "stream",
          "name": "stdout",
          "text": [
            "root\n",
            " |-- ID: integer (nullable = true)\n",
            " |-- Idade: integer (nullable = true)\n",
            " |-- Gênero: string (nullable = true)\n",
            " |-- Dias desde a Inscrição: integer (nullable = true)\n",
            " |-- Usou Suporte: integer (nullable = true)\n",
            " |-- Plano: string (nullable = true)\n",
            " |-- Churn: integer (nullable = true)\n",
            "\n"
          ]
        }
      ]
    },
    {
      "cell_type": "code",
      "source": [
        "# Mostrando as 10 primeiras linhas do DataFrame ´df_publico´.\n",
        "df_publico.show(10,False)"
      ],
      "metadata": {
        "colab": {
          "base_uri": "https://localhost:8080/"
        },
        "id": "Eq1X3ajAk9r2",
        "outputId": "98789907-428a-4c5a-b38c-21de75cb73eb"
      },
      "execution_count": 60,
      "outputs": [
        {
          "output_type": "stream",
          "name": "stdout",
          "text": [
            "+---+-----+------+----------------------+------------+-------------+-----+\n",
            "|ID |Idade|Gênero|Dias desde a Inscrição|Usou Suporte|Plano        |Churn|\n",
            "+---+-----+------+----------------------+------------+-------------+-----+\n",
            "|1  |21   |F     |1331                  |1           |Intermediário|1    |\n",
            "|2  |21   |M     |1160                  |0           |Intermediário|0    |\n",
            "|3  |62   |M     |454                   |1           |Básico       |0    |\n",
            "|4  |64   |M     |226                   |1           |Intermediário|0    |\n",
            "|5  |61   |M     |474                   |1           |Avançado     |0    |\n",
            "|6  |18   |M     |419                   |0           |Básico       |0    |\n",
            "|7  |52   |M     |1334                  |0           |Básico       |0    |\n",
            "|8  |44   |M     |1124                  |1           |Intermediário|0    |\n",
            "|9  |52   |M     |1256                  |1           |Intermediário|0    |\n",
            "|10 |64   |F     |1197                  |0           |Básico       |0    |\n",
            "+---+-----+------+----------------------+------------+-------------+-----+\n",
            "only showing top 10 rows\n",
            "\n"
          ]
        }
      ]
    },
    {
      "cell_type": "code",
      "source": [
        "# Checando quantas linhas tem o DataFrame ´df_publico´.\n",
        "df_publico.count()"
      ],
      "metadata": {
        "colab": {
          "base_uri": "https://localhost:8080/"
        },
        "id": "ALfREs0jozW3",
        "outputId": "bcaf688d-fcdf-4296-8c5c-c9699aedb94c"
      },
      "execution_count": 61,
      "outputs": [
        {
          "output_type": "execute_result",
          "data": {
            "text/plain": [
              "1000"
            ]
          },
          "metadata": {},
          "execution_count": 61
        }
      ]
    },
    {
      "cell_type": "code",
      "source": [
        "# Exibindo a estrutura do schema do DataFrame ´df_transacoes´.\n",
        "df_transacoes.printSchema()"
      ],
      "metadata": {
        "colab": {
          "base_uri": "https://localhost:8080/"
        },
        "id": "_VV3cghLkOKo",
        "outputId": "886893cd-ad70-42ef-ddca-914e809d8dbb"
      },
      "execution_count": 62,
      "outputs": [
        {
          "output_type": "stream",
          "name": "stdout",
          "text": [
            "root\n",
            " |-- ID Transação: integer (nullable = true)\n",
            " |-- ID Cliente: integer (nullable = true)\n",
            " |-- Data: string (nullable = true)\n",
            " |-- Valor: double (nullable = true)\n",
            " |-- Categoria: string (nullable = true)\n",
            "\n"
          ]
        }
      ]
    },
    {
      "cell_type": "code",
      "source": [
        "# Mostrando as 10 priemeiras linhas do DataFrame ´df_transacoes´.\n",
        "df_transacoes.show(10,False)"
      ],
      "metadata": {
        "colab": {
          "base_uri": "https://localhost:8080/"
        },
        "id": "_Qf69XLzknqe",
        "outputId": "5867a13a-89ea-4b2c-cbee-0df9bb322847"
      },
      "execution_count": 63,
      "outputs": [
        {
          "output_type": "stream",
          "name": "stdout",
          "text": [
            "+------------+----------+-----------------------------+------------------+-----------+\n",
            "|ID Transação|ID Cliente|Data                         |Valor             |Categoria  |\n",
            "+------------+----------+-----------------------------+------------------+-----------+\n",
            "|1           |1         |2022-11-25 13:50:26.548672560|57.287427536330505|Esportes   |\n",
            "|2           |1         |2020-01-19 12:27:36.637168141|97.07199340552512 |Alimentos  |\n",
            "|3           |1         |2021-12-28 12:33:58.938053096|169.10581012381087|Livros     |\n",
            "|4           |1         |2022-02-05 01:39:49.380530968|199.38694865538451|Roupas     |\n",
            "|5           |1         |2022-11-16 23:06:54.159292032|160.00228343317622|Eletrônicos|\n",
            "|6           |1         |2020-04-25 12:42:28.672566372|9.842481270765422 |Alimentos  |\n",
            "|7           |1         |2022-10-31 22:05:18.584070800|76.90706330227667 |Eletrônicos|\n",
            "|8           |1         |2020-10-06 12:14:52.035398228|53.20607404593595 |Roupas     |\n",
            "|9           |1         |2022-11-02 12:50:58.407079648|193.00568791656067|Livros     |\n",
            "|10          |1         |2020-09-06 21:37:41.946902652|56.524638713138636|Alimentos  |\n",
            "+------------+----------+-----------------------------+------------------+-----------+\n",
            "only showing top 10 rows\n",
            "\n"
          ]
        }
      ]
    },
    {
      "cell_type": "code",
      "source": [
        "# Checando quantas linhas tem o DataFrame ´df_transacoes´.\n",
        "df_transacoes.count()"
      ],
      "metadata": {
        "colab": {
          "base_uri": "https://localhost:8080/"
        },
        "id": "xDfPvHCbpTRW",
        "outputId": "23277471-86e4-4af6-ca32-8b4cb491da1c"
      },
      "execution_count": 64,
      "outputs": [
        {
          "output_type": "execute_result",
          "data": {
            "text/plain": [
              "10171"
            ]
          },
          "metadata": {},
          "execution_count": 64
        }
      ]
    },
    {
      "cell_type": "markdown",
      "source": [
        "<br>"
      ],
      "metadata": {
        "id": "urVtUmQQWjTU"
      }
    },
    {
      "cell_type": "markdown",
      "source": [
        "## **Criação de variáveis explicativas.**"
      ],
      "metadata": {
        "id": "JncAZcVrnXfC"
      }
    },
    {
      "cell_type": "markdown",
      "source": [
        "**1. Tempo desde a Última Transação:** A diferença entre a data mais recente do conjunto de dados e a última data de compra de cada cliente."
      ],
      "metadata": {
        "id": "ANPzo9RFoKxC"
      }
    },
    {
      "cell_type": "code",
      "source": [
        "df_temp_01 = spark.sql('''\n",
        "\n",
        "SELECT\n",
        "  `ID Cliente`,\n",
        "  MAX(CAST(Data AS DATE)) AS UTL_DATA_COMPRA,\n",
        "  DATEDIFF(current_date(), MAX(CAST(Data AS DATE))) AS DIAS_DESDE_ULT_TRANS\n",
        "FROM\n",
        "  df_transacoes\n",
        "GROUP BY\n",
        "  `ID Cliente`\n",
        "ORDER BY\n",
        "  `ID Cliente`\n",
        "\n",
        "''')\n",
        "\n",
        "# Esse código cria ou substitui uma view temporária no Apache Spark.\n",
        "df_temp_01.createOrReplaceTempView('df_temp_01')\n",
        "\n",
        "# Checando o número de linhas desse DataFrame.\n",
        "print(f'Total de Linhas: {df_temp_01.count()}\\n')\n",
        "\n",
        "# Contando o número de novas variáveis criadas.\n",
        "print(f'Total de Variáveis Criadas: {len(df_temp_01.columns)-1}\\n')\n",
        "\n",
        "# Mostrando o novo DataFrame.\n",
        "df_temp_01.show(10, False)"
      ],
      "metadata": {
        "colab": {
          "base_uri": "https://localhost:8080/"
        },
        "id": "_FsCWFhT84wF",
        "outputId": "6216e2d1-fcd4-4e0d-809d-d82c985528d8"
      },
      "execution_count": 65,
      "outputs": [
        {
          "output_type": "stream",
          "name": "stdout",
          "text": [
            "Total de Linhas: 1000\n",
            "\n",
            "Total de Variáveis Criadas: 2\n",
            "\n",
            "+----------+---------------+--------------------+\n",
            "|ID Cliente|UTL_DATA_COMPRA|DIAS_DESDE_ULT_TRANS|\n",
            "+----------+---------------+--------------------+\n",
            "|1         |2022-12-18     |332                 |\n",
            "|2         |2021-12-07     |708                 |\n",
            "|3         |2022-11-21     |359                 |\n",
            "|4         |2022-12-12     |338                 |\n",
            "|5         |2022-12-22     |328                 |\n",
            "|6         |2022-09-06     |435                 |\n",
            "|7         |2022-09-19     |422                 |\n",
            "|8         |2022-09-18     |423                 |\n",
            "|9         |2022-08-30     |442                 |\n",
            "|10        |2022-10-01     |410                 |\n",
            "+----------+---------------+--------------------+\n",
            "only showing top 10 rows\n",
            "\n"
          ]
        }
      ]
    },
    {
      "cell_type": "markdown",
      "source": [
        "**2. Duração da Assinatura:** Número de dias desde que o cliente fez a primeira compra até a data da compra mais recente."
      ],
      "metadata": {
        "id": "GY2_aVRip41W"
      }
    },
    {
      "cell_type": "code",
      "source": [
        "df_temp_02 = spark.sql('''\n",
        "\n",
        "SELECT\n",
        "  `ID Cliente`,\n",
        "  DATEDIFF(MAX(CAST(Data AS DATE)), MIN(CAST(Data AS DATE))) AS QTD_DIAS_DESDE_PRIM_COMPRA\n",
        "FROM\n",
        "  df_transacoes\n",
        "GROUP BY\n",
        "  `ID Cliente`\n",
        "ORDER BY\n",
        "  `ID Cliente`\n",
        "\n",
        "''')\n",
        "\n",
        "# Esse código cria ou substitui uma view temporária no Apache Spark.\n",
        "df_temp_02.createOrReplaceTempView('df_temp_02')\n",
        "\n",
        "# Checando o número de linhas desse DataFrame.\n",
        "print(f'Total de Linhas: {df_temp_02.count()}\\n')\n",
        "\n",
        "# Contando o número de novas variáveis criadas.\n",
        "print(f'Total de Variáveis Criadas: {len(df_temp_02.columns)-1}\\n')\n",
        "\n",
        "# Mostrando o novo DataFrame.\n",
        "df_temp_02.show(10, False)"
      ],
      "metadata": {
        "colab": {
          "base_uri": "https://localhost:8080/"
        },
        "id": "2kE8bLrPp7HX",
        "outputId": "95b795c5-85b8-4078-8ffb-33a0fcd70c09"
      },
      "execution_count": 66,
      "outputs": [
        {
          "output_type": "stream",
          "name": "stdout",
          "text": [
            "Total de Linhas: 1000\n",
            "\n",
            "Total de Variáveis Criadas: 1\n",
            "\n",
            "+----------+--------------------------+\n",
            "|ID Cliente|QTD_DIAS_DESDE_PRIM_COMPRA|\n",
            "+----------+--------------------------+\n",
            "|1         |1064                      |\n",
            "|2         |701                       |\n",
            "|3         |1033                      |\n",
            "|4         |837                       |\n",
            "|5         |1064                      |\n",
            "|6         |915                       |\n",
            "|7         |975                       |\n",
            "|8         |901                       |\n",
            "|9         |925                       |\n",
            "|10        |799                       |\n",
            "+----------+--------------------------+\n",
            "only showing top 10 rows\n",
            "\n"
          ]
        }
      ]
    },
    {
      "cell_type": "markdown",
      "source": [
        "**3. Frequência de Compra:** Quantidade de compras que o cliente fez dividida pelo número de meses desde sua primeira compra."
      ],
      "metadata": {
        "id": "wcxLrj7upgUq"
      }
    },
    {
      "cell_type": "code",
      "source": [
        "df_temp_03 = spark.sql('''\n",
        "\n",
        "SELECT\n",
        "  `ID Cliente`,\n",
        "  ROUND(COUNT(*) / (DATEDIFF(current_date(), MIN(CAST(Data AS DATE))) / 30), 2) AS QTD_COMPRAS_MES\n",
        "FROM\n",
        "  df_transacoes\n",
        "GROUP BY\n",
        "  `ID Cliente`\n",
        "ORDER BY\n",
        "  `ID Cliente`\n",
        "\n",
        "''')\n",
        "\n",
        "# Esse código cria ou substitui uma view temporária no Apache Spark.\n",
        "df_temp_03.createOrReplaceTempView('df_temp_03')\n",
        "\n",
        "# Checando o número de linhas desse DataFrame.\n",
        "print(f'Total de Linhas: {df_temp_03.count()}\\n')\n",
        "\n",
        "# Contando o número de novas variáveis criadas.\n",
        "print(f'Total de Variáveis Criadas: {len(df_temp_03.columns)-1}\\n')\n",
        "\n",
        "# Mostrando o novo DataFrame.\n",
        "df_temp_03.show(10, False)"
      ],
      "metadata": {
        "colab": {
          "base_uri": "https://localhost:8080/"
        },
        "id": "0sJ9fE36pk6R",
        "outputId": "c9f7a225-707a-48af-8d51-dfb64d2f4703"
      },
      "execution_count": 67,
      "outputs": [
        {
          "output_type": "stream",
          "name": "stdout",
          "text": [
            "Total de Linhas: 1000\n",
            "\n",
            "Total de Variáveis Criadas: 1\n",
            "\n",
            "+----------+---------------+\n",
            "|ID Cliente|QTD_COMPRAS_MES|\n",
            "+----------+---------------+\n",
            "|1         |0.37           |\n",
            "|2         |0.21           |\n",
            "|3         |0.19           |\n",
            "|4         |0.2            |\n",
            "|5         |0.32           |\n",
            "|6         |0.29           |\n",
            "|7         |0.37           |\n",
            "|8         |0.2            |\n",
            "|9         |0.24           |\n",
            "|10        |0.1            |\n",
            "+----------+---------------+\n",
            "only showing top 10 rows\n",
            "\n"
          ]
        }
      ]
    },
    {
      "cell_type": "markdown",
      "source": [
        "**4. Valor Total, Valor Médio, Valor Máximo e Valor Mínimo Gasto:** Soma, média, máximo e mínimo de todos os valores gastos pelo cliente em todas as suas transações."
      ],
      "metadata": {
        "id": "Zh6WAbekphqQ"
      }
    },
    {
      "cell_type": "code",
      "source": [
        "df_temp_04 = spark.sql('''\n",
        "\n",
        "SELECT\n",
        "  `ID Cliente`,\n",
        "  ROUND(SUM(Valor), 2) AS VL_TOT_GASTO,\n",
        "  ROUND(AVG(Valor), 2) AS VL_MED_GASTO,\n",
        "  ROUND(MAX(Valor), 2) AS VL_MAX_GASTO,\n",
        "  ROUND(MIN(Valor), 2) AS VL_MIN_GASTO\n",
        "FROM\n",
        "  df_transacoes\n",
        "GROUP BY\n",
        "  `ID Cliente`\n",
        "ORDER BY\n",
        "  `ID Cliente`\n",
        "\n",
        "''')\n",
        "\n",
        "# Esse código cria ou substitui uma view temporária no Apache Spark.\n",
        "df_temp_04.createOrReplaceTempView('df_temp_04')\n",
        "\n",
        "# Checando o número de linhas desse DataFrame.\n",
        "print(f'Total de Linhas: {df_temp_04.count()}\\n')\n",
        "\n",
        "# Contando o número de novas variáveis criadas.\n",
        "print(f'Total de Variáveis Criadas: {len(df_temp_04.columns)-1}\\n')\n",
        "\n",
        "# Mostrando o novo DataFrame.\n",
        "df_temp_04.show(10, False)"
      ],
      "metadata": {
        "colab": {
          "base_uri": "https://localhost:8080/"
        },
        "id": "gJTgFIUlc2VC",
        "outputId": "5a305eb8-4888-43e1-c601-baef6ab8e6c9"
      },
      "execution_count": 68,
      "outputs": [
        {
          "output_type": "stream",
          "name": "stdout",
          "text": [
            "Total de Linhas: 1000\n",
            "\n",
            "Total de Variáveis Criadas: 4\n",
            "\n",
            "+----------+------------+------------+------------+------------+\n",
            "|ID Cliente|VL_TOT_GASTO|VL_MED_GASTO|VL_MAX_GASTO|VL_MIN_GASTO|\n",
            "+----------+------------+------------+------------+------------+\n",
            "|1         |1976.56     |116.27      |199.39      |5.39        |\n",
            "|2         |1017.8      |101.78      |192.63      |47.58       |\n",
            "|3         |997.81      |110.87      |191.09      |41.91       |\n",
            "|4         |1009.77     |126.22      |199.35      |41.01       |\n",
            "|5         |1755.18     |117.01      |170.78      |16.25       |\n",
            "|6         |1841.53     |141.66      |199.29      |8.9         |\n",
            "|7         |1671.35     |98.31       |180.02      |21.47       |\n",
            "|8         |841.03      |93.45       |164.54      |22.74       |\n",
            "|9         |1019.13     |92.65       |196.06      |14.62       |\n",
            "|10        |416.41      |104.1       |185.66      |15.92       |\n",
            "+----------+------------+------------+------------+------------+\n",
            "only showing top 10 rows\n",
            "\n"
          ]
        }
      ]
    },
    {
      "cell_type": "markdown",
      "source": [
        "**5. Valor Total e Valor Médio Gasto por Categoria:** Soma e média dos valores gastos em cada categoria."
      ],
      "metadata": {
        "id": "J2VRzj5SgKQR"
      }
    },
    {
      "cell_type": "code",
      "source": [
        "df_temp_05 = spark.sql('''\n",
        "\n",
        "  SELECT\n",
        "  `ID Cliente`,\n",
        "    ROUND(SUM(CASE WHEN Categoria = 'Alimentos' THEN Valor ELSE 0 END),2) AS VL_TOT_GASTO_ALIMENTOS,\n",
        "    ROUND(AVG(CASE WHEN Categoria = 'Alimentos' THEN Valor ELSE NULL END),2) AS VL_MED_GASTO_ALIMENTOS,\n",
        "    ROUND(SUM(CASE WHEN Categoria = 'Eletrônicos' THEN Valor ELSE 0 END),2) AS VL_TOT_GASTO_ELETRONICOS,\n",
        "    ROUND(AVG(CASE WHEN Categoria = 'Eletrônicos' THEN Valor ELSE NULL END),2) AS VL_MED_GASTO_ELETRONICOS,\n",
        "    ROUND(SUM(CASE WHEN Categoria = 'Esportes' THEN Valor ELSE 0 END),2) AS VL_TOT_GASTO_ESPORTES,\n",
        "    ROUND(AVG(CASE WHEN Categoria = 'Esportes' THEN Valor ELSE NULL END),2) AS VL_MED_GASTO_ESPORTES,\n",
        "    ROUND(SUM(CASE WHEN Categoria = 'Livros' THEN Valor ELSE 0 END),2) AS VL_TOT_GASTO_LIVROS,\n",
        "    ROUND(AVG(CASE WHEN Categoria = 'Livros' THEN Valor ELSE NULL END),2) AS VL_MED_GASTO_LIVROS,\n",
        "    ROUND(SUM(CASE WHEN Categoria = 'Roupas' THEN Valor ELSE 0 END),2) AS VL_TOT_GASTO_ROUPAS,\n",
        "    ROUND(AVG(CASE WHEN Categoria = 'Roupas' THEN Valor ELSE NULL END),2) AS VL_MED_GASTO_ROUPAS\n",
        "  FROM\n",
        "    df_transacoes\n",
        "  GROUP BY\n",
        "    `ID Cliente`\n",
        "  ORDER BY\n",
        "    `ID Cliente`\n",
        "\n",
        "''')\n",
        "\n",
        "# Esse código cria ou substitui uma view temporária no Apache Spark.\n",
        "df_temp_05.createOrReplaceTempView('df_temp_05')\n",
        "\n",
        "# Checando o número de linhas desse DataFrame.\n",
        "print(f'Total de Linhas: {df_temp_05.count()}\\n')\n",
        "\n",
        "# Contando o número de novas variáveis criadas.\n",
        "print(f'Total de Variáveis Criadas: {len(df_temp_05.columns)-1}\\n')\n",
        "\n",
        "# Mostrando o novo DataFrame.\n",
        "df_temp_05.show(10, False)"
      ],
      "metadata": {
        "colab": {
          "base_uri": "https://localhost:8080/"
        },
        "id": "bjzQ4mGYf0dh",
        "outputId": "fc464951-eeff-4bb5-af9b-d26cb7482dc1"
      },
      "execution_count": 69,
      "outputs": [
        {
          "output_type": "stream",
          "name": "stdout",
          "text": [
            "Total de Linhas: 1000\n",
            "\n",
            "Total de Variáveis Criadas: 10\n",
            "\n",
            "+----------+----------------------+----------------------+------------------------+------------------------+---------------------+---------------------+-------------------+-------------------+-------------------+-------------------+\n",
            "|ID Cliente|VL_TOT_GASTO_ALIMENTOS|VL_MED_GASTO_ALIMENTOS|VL_TOT_GASTO_ELETRONICOS|VL_MED_GASTO_ELETRONICOS|VL_TOT_GASTO_ESPORTES|VL_MED_GASTO_ESPORTES|VL_TOT_GASTO_LIVROS|VL_MED_GASTO_LIVROS|VL_TOT_GASTO_ROUPAS|VL_MED_GASTO_ROUPAS|\n",
            "+----------+----------------------+----------------------+------------------------+------------------------+---------------------+---------------------+-------------------+-------------------+-------------------+-------------------+\n",
            "|1         |351.26                |87.81                 |396.72                  |132.24                  |226.73               |113.37               |551.06             |183.69             |450.79             |90.16              |\n",
            "|2         |109.58                |54.79                 |292.16                  |97.39                   |275.47               |91.82                |340.59             |170.29             |0.0                |null               |\n",
            "|3         |247.52                |123.76                |317.38                  |105.79                  |327.09               |163.55               |105.81             |52.91              |0.0                |null               |\n",
            "|4         |103.19                |103.19                |291.16                  |97.05                   |199.35               |199.35               |48.18              |48.18              |367.89             |183.94             |\n",
            "|5         |292.37                |146.19                |707.41                  |117.9                   |436.01               |109.0                |16.25              |16.25              |303.13             |151.56             |\n",
            "|6         |373.42                |186.71                |202.33                  |101.16                  |395.05               |131.68               |371.56             |185.78             |499.17             |124.79             |\n",
            "|7         |270.44                |90.15                 |572.15                  |114.43                  |137.2                |68.6                 |463.88             |92.78              |227.68             |113.84             |\n",
            "|8         |113.95                |56.97                 |388.75                  |97.19                   |150.17               |150.17               |69.79              |69.79              |118.38             |118.38             |\n",
            "|9         |172.42                |43.11                 |0.0                     |null                    |286.48               |95.49                |330.45             |165.23             |229.77             |114.88             |\n",
            "|10        |185.66                |185.66                |144.9                   |144.9                   |0.0                  |null                 |15.92              |15.92              |69.93              |69.93              |\n",
            "+----------+----------------------+----------------------+------------------------+------------------------+---------------------+---------------------+-------------------+-------------------+-------------------+-------------------+\n",
            "only showing top 10 rows\n",
            "\n"
          ]
        }
      ]
    },
    {
      "cell_type": "markdown",
      "source": [
        "**6. Categoria Favorita:** Categoria de produto em que o cliente gastou a maior quantia."
      ],
      "metadata": {
        "id": "OXQXTsxCpkBe"
      }
    },
    {
      "cell_type": "code",
      "source": [
        "df_temp_06 = spark.sql('''\n",
        "\n",
        "WITH ranked_categories AS (\n",
        "  SELECT\n",
        "    `ID Cliente`,\n",
        "    Categoria,\n",
        "    RANK() OVER (PARTITION BY `ID Cliente` ORDER BY SUM(Valor) DESC) AS RNK\n",
        "  FROM\n",
        "    df_transacoes\n",
        "  GROUP BY\n",
        "    `ID Cliente`,\n",
        "    Categoria\n",
        ")\n",
        "SELECT\n",
        "  `ID Cliente`,\n",
        "  Categoria AS CATEG_FAVORITA\n",
        "FROM\n",
        "  ranked_categories\n",
        "WHERE\n",
        "  RNK = 1\n",
        "ORDER BY\n",
        "  `ID Cliente`\n",
        "\n",
        "''')\n",
        "\n",
        "# Esse código cria ou substitui uma view temporária no Apache Spark.\n",
        "df_temp_06.createOrReplaceTempView('df_temp_06')\n",
        "\n",
        "# Checando o número de linhas desse DataFrame.\n",
        "print(f'Total de Linhas: {df_temp_06.count()}\\n')\n",
        "\n",
        "# Contando o número de novas variáveis criadas.\n",
        "print(f'Total de Variáveis Criadas: {len(df_temp_06.columns)-1}\\n')\n",
        "\n",
        "# Mostrando o novo DataFrame.\n",
        "df_temp_06.show(10, False)"
      ],
      "metadata": {
        "colab": {
          "base_uri": "https://localhost:8080/"
        },
        "id": "vXdiXdXTpg-7",
        "outputId": "015e5265-16db-4604-bc2d-028bef78ba81"
      },
      "execution_count": 70,
      "outputs": [
        {
          "output_type": "stream",
          "name": "stdout",
          "text": [
            "Total de Linhas: 1000\n",
            "\n",
            "Total de Variáveis Criadas: 1\n",
            "\n",
            "+----------+--------------+\n",
            "|ID Cliente|CATEG_FAVORITA|\n",
            "+----------+--------------+\n",
            "|1         |Livros        |\n",
            "|2         |Livros        |\n",
            "|3         |Esportes      |\n",
            "|4         |Roupas        |\n",
            "|5         |Eletrônicos   |\n",
            "|6         |Roupas        |\n",
            "|7         |Eletrônicos   |\n",
            "|8         |Eletrônicos   |\n",
            "|9         |Livros        |\n",
            "|10        |Alimentos     |\n",
            "+----------+--------------+\n",
            "only showing top 10 rows\n",
            "\n"
          ]
        }
      ]
    },
    {
      "cell_type": "markdown",
      "source": [
        "**7. Número de Categorias Compradas:** Quantidade de categorias diferentes das quais o cliente comprou."
      ],
      "metadata": {
        "id": "8JDEnzMFp7fL"
      }
    },
    {
      "cell_type": "code",
      "source": [
        "df_temp_07 = spark.sql('''\n",
        "\n",
        "SELECT\n",
        "  `ID Cliente`,\n",
        "  COUNT(DISTINCT Categoria) AS QTD_CATEG_DIF\n",
        "FROM\n",
        "  df_transacoes\n",
        "GROUP BY\n",
        "  `ID Cliente`\n",
        "ORDER BY\n",
        "  `ID Cliente`\n",
        "\n",
        "''')\n",
        "\n",
        "# Esse código cria ou substitui uma view temporária no Apache Spark.\n",
        "df_temp_07.createOrReplaceTempView('df_temp_07')\n",
        "\n",
        "# Checando o número de linhas desse DataFrame.\n",
        "print(f'Total de Linhas: {df_temp_07.count()}\\n')\n",
        "\n",
        "# Contando o número de novas variáveis criadas.\n",
        "print(f'Total de Variáveis Criadas: {len(df_temp_07.columns)-1}\\n')\n",
        "\n",
        "# Mostrando o novo DataFrame.\n",
        "df_temp_07.show(10, False)"
      ],
      "metadata": {
        "colab": {
          "base_uri": "https://localhost:8080/"
        },
        "id": "b-a-f9bbqA3z",
        "outputId": "1df4ef29-eea6-47f0-930c-9e818c65de40"
      },
      "execution_count": 71,
      "outputs": [
        {
          "output_type": "stream",
          "name": "stdout",
          "text": [
            "Total de Linhas: 1000\n",
            "\n",
            "Total de Variáveis Criadas: 1\n",
            "\n",
            "+----------+-------------+\n",
            "|ID Cliente|QTD_CATEG_DIF|\n",
            "+----------+-------------+\n",
            "|1         |5            |\n",
            "|2         |4            |\n",
            "|3         |4            |\n",
            "|4         |5            |\n",
            "|5         |5            |\n",
            "|6         |5            |\n",
            "|7         |5            |\n",
            "|8         |5            |\n",
            "|9         |4            |\n",
            "|10        |4            |\n",
            "+----------+-------------+\n",
            "only showing top 10 rows\n",
            "\n"
          ]
        }
      ]
    },
    {
      "cell_type": "markdown",
      "source": [
        "<br>"
      ],
      "metadata": {
        "id": "7EKkkvELWmBu"
      }
    },
    {
      "cell_type": "markdown",
      "source": [
        "## **Criação de variáveis históricas (3, 6, 9 e 12 meses).**"
      ],
      "metadata": {
        "id": "1xDQl9ZOqQRV"
      }
    },
    {
      "cell_type": "markdown",
      "source": [
        "**Criando uma flag que marca as transações feitas nos últimos 3, 6, 9 e 12 meses (janela temporal).**\n",
        "\n",
        "Usamos **Window Functions** `MAX(Data) OVER (PARTITION BY 'ID Cliente')` para obter a data de compra mais recente para cada cliente. Comparamos então a data de cada transação com a data mais recente, para determinar se ela está dentro do intervalo dos últimos 3, 6, 9 ou 12 meses. Atribuímos 1 se a transação estiver dentro do intervado ou 0 se estiver fora."
      ],
      "metadata": {
        "id": "7X_8ENE2mhqh"
      }
    },
    {
      "cell_type": "code",
      "source": [
        "df_temp_flag_hist = spark.sql('''\n",
        "\n",
        "SELECT\n",
        "  *,\n",
        "  CASE WHEN Data BETWEEN DATE_ADD(MAX(Data) OVER (PARTITION BY `ID Cliente`), -90) AND MAX(Data) OVER (PARTITION BY `ID Cliente`) THEN 1 ELSE 0 END AS ultimos_3_meses_flag,\n",
        "  CASE WHEN Data BETWEEN DATE_ADD(MAX(Data) OVER (PARTITION BY `ID Cliente`), -180) AND MAX(Data) OVER (PARTITION BY `ID Cliente`) THEN 1 ELSE 0 END AS ultimos_6_meses_flag,\n",
        "  CASE WHEN Data BETWEEN DATE_ADD(MAX(Data) OVER (PARTITION BY `ID Cliente`), -270) AND MAX(Data) OVER (PARTITION BY `ID Cliente`) THEN 1 ELSE 0 END AS ultimos_9_meses_flag,\n",
        "  CASE WHEN Data BETWEEN DATE_ADD(MAX(Data) OVER (PARTITION BY `ID Cliente`), -365) AND MAX(Data) OVER (PARTITION BY `ID Cliente`) THEN 1 ELSE 0 END AS ultimos_12_meses_flag\n",
        "FROM\n",
        "  df_transacoes\n",
        "ORDER BY\n",
        "  `ID Cliente`,\n",
        "  Data\n",
        "\n",
        "''')\n",
        "\n",
        "# Esse código cria ou substitui uma view temporária no Apache Spark.\n",
        "df_temp_flag_hist.createOrReplaceTempView('df_temp_flag_hist')\n",
        "\n",
        "# Checando o número de linhas desse DataFrame.\n",
        "print(f'Total de Linhas: {df_temp_flag_hist.count()}\\n')\n",
        "\n",
        "# Mostrando o novo DataFrame.\n",
        "df_temp_flag_hist.show(20, False)"
      ],
      "metadata": {
        "colab": {
          "base_uri": "https://localhost:8080/"
        },
        "id": "dT8cqUsOn30A",
        "outputId": "d0652b10-d71f-40d2-ea06-41d6a3b9ca20"
      },
      "execution_count": 72,
      "outputs": [
        {
          "output_type": "stream",
          "name": "stdout",
          "text": [
            "Total de Linhas: 10171\n",
            "\n",
            "+------------+----------+-----------------------------+------------------+-----------+--------------------+--------------------+--------------------+---------------------+\n",
            "|ID Transação|ID Cliente|Data                         |Valor             |Categoria  |ultimos_3_meses_flag|ultimos_6_meses_flag|ultimos_9_meses_flag|ultimos_12_meses_flag|\n",
            "+------------+----------+-----------------------------+------------------+-----------+--------------------+--------------------+--------------------+---------------------+\n",
            "|2           |1         |2020-01-19 12:27:36.637168141|97.07199340552512 |Alimentos  |0                   |0                   |0                   |0                    |\n",
            "|6           |1         |2020-04-25 12:42:28.672566372|9.842481270765422 |Alimentos  |0                   |0                   |0                   |0                    |\n",
            "|10          |1         |2020-09-06 21:37:41.946902652|56.524638713138636|Alimentos  |0                   |0                   |0                   |0                    |\n",
            "|17          |1         |2020-10-06 07:04:46.725663716|169.44331623029686|Esportes   |0                   |0                   |0                   |0                    |\n",
            "|8           |1         |2020-10-06 12:14:52.035398228|53.20607404593595 |Roupas     |0                   |0                   |0                   |0                    |\n",
            "|3           |1         |2021-12-28 12:33:58.938053096|169.10581012381087|Livros     |0                   |0                   |0                   |1                    |\n",
            "|11          |1         |2022-01-01 22:30:47.787610616|188.9532871161914 |Livros     |0                   |0                   |0                   |1                    |\n",
            "|4           |1         |2022-02-05 01:39:49.380530968|199.38694865538451|Roupas     |0                   |0                   |0                   |1                    |\n",
            "|16          |1         |2022-06-07 22:05:18.584070800|159.80720142167414|Eletrônicos|0                   |0                   |1                   |1                    |\n",
            "|15          |1         |2022-08-04 07:23:53.628318576|5.389069461264487 |Roupas     |0                   |1                   |1                   |1                    |\n",
            "|12          |1         |2022-08-10 13:16:27.610619472|187.81591513287063|Alimentos  |0                   |1                   |1                   |1                    |\n",
            "|7           |1         |2022-10-31 22:05:18.584070800|76.90706330227667 |Eletrônicos|1                   |1                   |1                   |1                    |\n",
            "|9           |1         |2022-11-02 12:50:58.407079648|193.00568791656067|Livros     |1                   |1                   |1                   |1                    |\n",
            "|5           |1         |2022-11-16 23:06:54.159292032|160.00228343317622|Eletrônicos|1                   |1                   |1                   |1                    |\n",
            "|14          |1         |2022-11-17 12:02:07.433628320|24.123994506156937|Roupas     |1                   |1                   |1                   |1                    |\n",
            "|1           |1         |2022-11-25 13:50:26.548672560|57.287427536330505|Esportes   |1                   |1                   |1                   |1                    |\n",
            "|13          |1         |2022-12-18 22:35:02.654867248|168.68501102043555|Roupas     |1                   |1                   |1                   |1                    |\n",
            "|27          |2         |2020-01-06 04:02:07.433628318|99.88314370871791 |Eletrônicos|0                   |0                   |0                   |0                    |\n",
            "|18          |2         |2020-02-03 21:58:56.283185840|192.62543018016476|Livros     |0                   |0                   |0                   |0                    |\n",
            "|20          |2         |2020-05-04 21:31:19.646017698|147.96356124522856|Livros     |0                   |0                   |0                   |0                    |\n",
            "+------------+----------+-----------------------------+------------------+-----------+--------------------+--------------------+--------------------+---------------------+\n",
            "only showing top 20 rows\n",
            "\n"
          ]
        }
      ]
    },
    {
      "cell_type": "markdown",
      "source": [
        "**8. Total e Média do Valor Gasto em Alimentos:** Esta variável calcula o total e a média dos gastos do cliente na categoria \"Alimentos\" nos últimos três, seis, nove e doze meses."
      ],
      "metadata": {
        "id": "voxCCRirqeGM"
      }
    },
    {
      "cell_type": "code",
      "source": [
        "df_temp_08 = spark.sql('''\n",
        "\n",
        "SELECT\n",
        "  `ID Cliente`,\n",
        "  ROUND(SUM(CASE WHEN Categoria = 'Alimentos' AND ultimos_3_meses_flag = 1 THEN Valor ELSE NULL END), 2) AS VL_TOT_U3M_CONS_ALIMENTOS,\n",
        "  ROUND(SUM(CASE WHEN Categoria = 'Alimentos' AND ultimos_6_meses_flag = 1 THEN Valor ELSE NULL END), 2) AS VL_TOT_U6M_CONS_ALIMENTOS,\n",
        "  ROUND(SUM(CASE WHEN Categoria = 'Alimentos' AND ultimos_9_meses_flag = 1 THEN Valor ELSE NULL END), 2) AS VL_TOT_U9M_CONS_ALIMENTOS,\n",
        "  ROUND(SUM(CASE WHEN Categoria = 'Alimentos' AND ultimos_12_meses_flag = 1 THEN Valor ELSE NULL END), 2) AS VL_TOT_U12M_CONS_ALIMENTOS,\n",
        "  ROUND(AVG(CASE WHEN Categoria = 'Alimentos' AND ultimos_3_meses_flag = 1 THEN Valor ELSE NULL END), 2) AS VL_MED_U3M_CONS_ALIMENTOS,\n",
        "  ROUND(AVG(CASE WHEN Categoria = 'Alimentos' AND ultimos_6_meses_flag = 1 THEN Valor ELSE NULL END), 2) AS VL_MED_U6M_CONS_ALIMENTOS,\n",
        "  ROUND(AVG(CASE WHEN Categoria = 'Alimentos' AND ultimos_9_meses_flag = 1 THEN Valor ELSE NULL END), 2) AS VL_MED_U9M_CONS_ALIMENTOS,\n",
        "  ROUND(AVG(CASE WHEN Categoria = 'Alimentos' AND ultimos_12_meses_flag = 1 THEN Valor ELSE NULL END), 2) AS VL_MED_U12M_CONS_ALIMENTOS\n",
        "FROM\n",
        "  df_temp_flag_hist\n",
        "GROUP\n",
        "  BY `ID Cliente`\n",
        "ORDER BY\n",
        "  `ID Cliente`\n",
        "\n",
        "''')\n",
        "\n",
        "# Esse código cria ou substitui uma view temporária no Apache Spark.\n",
        "df_temp_08.createOrReplaceTempView('df_temp_08')\n",
        "\n",
        "# Checando o número de linhas desse DataFrame.\n",
        "print(f'Total de Linhas: {df_temp_08.count()}\\n')\n",
        "\n",
        "# Contando o número de novas variáveis criadas.\n",
        "print(f'Total de Variáveis Criadas: {len(df_temp_08.columns)-1}\\n')\n",
        "\n",
        "# Mostrando o novo DataFrame.\n",
        "df_temp_08.show(10, False)"
      ],
      "metadata": {
        "colab": {
          "base_uri": "https://localhost:8080/"
        },
        "id": "HflMA5XJqbmc",
        "outputId": "054540d4-80e3-4c82-bbf7-504a68d4e4fd"
      },
      "execution_count": 73,
      "outputs": [
        {
          "output_type": "stream",
          "name": "stdout",
          "text": [
            "Total de Linhas: 1000\n",
            "\n",
            "Total de Variáveis Criadas: 8\n",
            "\n",
            "+----------+-------------------------+-------------------------+-------------------------+--------------------------+-------------------------+-------------------------+-------------------------+--------------------------+\n",
            "|ID Cliente|VL_TOT_U3M_CONS_ALIMENTOS|VL_TOT_U6M_CONS_ALIMENTOS|VL_TOT_U9M_CONS_ALIMENTOS|VL_TOT_U12M_CONS_ALIMENTOS|VL_MED_U3M_CONS_ALIMENTOS|VL_MED_U6M_CONS_ALIMENTOS|VL_MED_U9M_CONS_ALIMENTOS|VL_MED_U12M_CONS_ALIMENTOS|\n",
            "+----------+-------------------------+-------------------------+-------------------------+--------------------------+-------------------------+-------------------------+-------------------------+--------------------------+\n",
            "|1         |null                     |187.82                   |187.82                   |187.82                    |null                     |187.82                   |187.82                   |187.82                    |\n",
            "|2         |47.58                    |109.58                   |109.58                   |109.58                    |47.58                    |54.79                    |54.79                    |54.79                     |\n",
            "|3         |null                     |null                     |null                     |null                      |null                     |null                     |null                     |null                      |\n",
            "|4         |103.19                   |103.19                   |103.19                   |103.19                    |103.19                   |103.19                   |103.19                   |103.19                    |\n",
            "|5         |null                     |null                     |null                     |null                      |null                     |null                     |null                     |null                      |\n",
            "|6         |null                     |null                     |null                     |null                      |null                     |null                     |null                     |null                      |\n",
            "|7         |null                     |51.54                    |51.54                    |51.54                     |null                     |51.54                    |51.54                    |51.54                     |\n",
            "|8         |null                     |null                     |113.95                   |113.95                    |null                     |null                     |56.97                    |56.97                     |\n",
            "|9         |51.77                    |51.77                    |87.28                    |87.28                     |51.77                    |51.77                    |43.64                    |43.64                     |\n",
            "|10        |null                     |null                     |null                     |185.66                    |null                     |null                     |null                     |185.66                    |\n",
            "+----------+-------------------------+-------------------------+-------------------------+--------------------------+-------------------------+-------------------------+-------------------------+--------------------------+\n",
            "only showing top 10 rows\n",
            "\n"
          ]
        }
      ]
    },
    {
      "cell_type": "markdown",
      "source": [
        "**9. Total e Média do Valor Gasto em Eletrônicos:** Esta variável calcula o total e a média dos gastos do cliente na categoria \"Eletrônicos\" nos últimos três, seis, nove e doze meses."
      ],
      "metadata": {
        "id": "rrmcAl3nqonO"
      }
    },
    {
      "cell_type": "code",
      "source": [
        "df_temp_09 = spark.sql('''\n",
        "\n",
        "SELECT\n",
        "  `ID Cliente`,\n",
        "  ROUND(SUM(CASE WHEN Categoria = 'Eletrônicos' AND ultimos_3_meses_flag = 1 THEN Valor ELSE NULL END), 2) AS VL_TOT_U3M_CONS_ELETRONICOS,\n",
        "  ROUND(SUM(CASE WHEN Categoria = 'Eletrônicos' AND ultimos_6_meses_flag = 1 THEN Valor ELSE NULL END), 2) AS VL_TOT_U6M_CONS_ELETRONICOS,\n",
        "  ROUND(SUM(CASE WHEN Categoria = 'Eletrônicos' AND ultimos_9_meses_flag = 1 THEN Valor ELSE NULL END), 2) AS VL_TOT_U9M_CONS_ELETRONICOS,\n",
        "  ROUND(SUM(CASE WHEN Categoria = 'Eletrônicos' AND ultimos_12_meses_flag = 1 THEN Valor ELSE NULL END), 2) AS VL_TOT_U12M_CONS_ELETRONICOS,\n",
        "  ROUND(AVG(CASE WHEN Categoria = 'Eletrônicos' AND ultimos_3_meses_flag = 1 THEN Valor ELSE NULL END), 2) AS VL_MED_U3M_CONS_ELETRONICOS,\n",
        "  ROUND(AVG(CASE WHEN Categoria = 'Eletrônicos' AND ultimos_6_meses_flag = 1 THEN Valor ELSE NULL END), 2) AS VL_MED_U6M_CONS_ELETRONICOS,\n",
        "  ROUND(AVG(CASE WHEN Categoria = 'Eletrônicos' AND ultimos_9_meses_flag = 1 THEN Valor ELSE NULL END), 2) AS VL_MED_U9M_CONS_ELETRONICOS,\n",
        "  ROUND(AVG(CASE WHEN Categoria = 'Eletrônicos' AND ultimos_12_meses_flag = 1 THEN Valor ELSE NULL END), 2) AS VL_MED_U12M_CONS_ELETRONICOS\n",
        "FROM\n",
        "  df_temp_flag_hist\n",
        "GROUP\n",
        "  BY `ID Cliente`\n",
        "ORDER BY\n",
        "  `ID Cliente`\n",
        "\n",
        "''')\n",
        "\n",
        "# Esse código cria ou substitui uma view temporária no Apache Spark.\n",
        "df_temp_09.createOrReplaceTempView('df_temp_09')\n",
        "\n",
        "# Checando o número de linhas desse DataFrame.\n",
        "print(f'Total de Linhas: {df_temp_09.count()}\\n')\n",
        "\n",
        "# Contando o número de novas variáveis criadas.\n",
        "print(f'Total de Variáveis Criadas: {len(df_temp_09.columns)-1}\\n')\n",
        "\n",
        "# Mostrando o novo DataFrame.\n",
        "df_temp_09.show(10, False)"
      ],
      "metadata": {
        "colab": {
          "base_uri": "https://localhost:8080/"
        },
        "id": "wziMVuIdqq-f",
        "outputId": "a1ef4688-fac2-4cba-fd47-a9e420f7a75e"
      },
      "execution_count": 74,
      "outputs": [
        {
          "output_type": "stream",
          "name": "stdout",
          "text": [
            "Total de Linhas: 1000\n",
            "\n",
            "Total de Variáveis Criadas: 8\n",
            "\n",
            "+----------+---------------------------+---------------------------+---------------------------+----------------------------+---------------------------+---------------------------+---------------------------+----------------------------+\n",
            "|ID Cliente|VL_TOT_U3M_CONS_ELETRONICOS|VL_TOT_U6M_CONS_ELETRONICOS|VL_TOT_U9M_CONS_ELETRONICOS|VL_TOT_U12M_CONS_ELETRONICOS|VL_MED_U3M_CONS_ELETRONICOS|VL_MED_U6M_CONS_ELETRONICOS|VL_MED_U9M_CONS_ELETRONICOS|VL_MED_U12M_CONS_ELETRONICOS|\n",
            "+----------+---------------------------+---------------------------+---------------------------+----------------------------+---------------------------+---------------------------+---------------------------+----------------------------+\n",
            "|1         |236.91                     |236.91                     |396.72                     |396.72                      |118.45                     |118.45                     |132.24                     |132.24                      |\n",
            "|2         |null                       |69.05                      |69.05                      |69.05                       |null                       |69.05                      |69.05                      |69.05                       |\n",
            "|3         |97.44                      |97.44                      |270.6                      |317.38                      |97.44                      |97.44                      |135.3                      |105.79                      |\n",
            "|4         |null                       |null                       |78.72                      |119.74                      |null                       |null                       |78.72                      |59.87                       |\n",
            "|5         |282.81                     |282.81                     |282.81                     |282.81                      |141.41                     |141.41                     |141.41                     |141.41                      |\n",
            "|6         |8.9                        |8.9                        |8.9                        |8.9                         |8.9                        |8.9                        |8.9                        |8.9                         |\n",
            "|7         |null                       |null                       |82.49                      |249.04                      |null                       |null                       |82.49                      |124.52                      |\n",
            "|8         |85.86                      |280.67                     |280.67                     |280.67                      |85.86                      |93.56                      |93.56                      |93.56                       |\n",
            "|9         |null                       |null                       |null                       |null                        |null                       |null                       |null                       |null                        |\n",
            "|10        |144.9                      |144.9                      |144.9                      |144.9                       |144.9                      |144.9                      |144.9                      |144.9                       |\n",
            "+----------+---------------------------+---------------------------+---------------------------+----------------------------+---------------------------+---------------------------+---------------------------+----------------------------+\n",
            "only showing top 10 rows\n",
            "\n"
          ]
        }
      ]
    },
    {
      "cell_type": "markdown",
      "source": [
        "**10. Total e Média do Valor Gasto em Esportes:** Esta variável calcula o total e a média dos gastos do cliente na categoria \"Esportes\" nos últimos três, seis, nove e doze meses."
      ],
      "metadata": {
        "id": "Km6EjDRkqrhR"
      }
    },
    {
      "cell_type": "code",
      "source": [
        "df_temp_10 = spark.sql('''\n",
        "\n",
        "SELECT\n",
        "  `ID Cliente`,\n",
        "  ROUND(SUM(CASE WHEN Categoria = 'Esportes' AND ultimos_3_meses_flag = 1 THEN Valor ELSE NULL END), 2) AS VL_TOT_U3M_CONS_ESPORTES,\n",
        "  ROUND(SUM(CASE WHEN Categoria = 'Esportes' AND ultimos_6_meses_flag = 1 THEN Valor ELSE NULL END), 2) AS VL_TOT_U6M_CONS_ESPORTES,\n",
        "  ROUND(SUM(CASE WHEN Categoria = 'Esportes' AND ultimos_9_meses_flag = 1 THEN Valor ELSE NULL END), 2) AS VL_TOT_U9M_CONS_ESPORTES,\n",
        "  ROUND(SUM(CASE WHEN Categoria = 'Esportes' AND ultimos_12_meses_flag = 1 THEN Valor ELSE NULL END), 2) AS VL_TOT_U12M_CONS_ESPORTES,\n",
        "  ROUND(AVG(CASE WHEN Categoria = 'Esportes' AND ultimos_3_meses_flag = 1 THEN Valor ELSE NULL END), 2) AS VL_MED_U3M_CONS_ESPORTES,\n",
        "  ROUND(AVG(CASE WHEN Categoria = 'Esportes' AND ultimos_6_meses_flag = 1 THEN Valor ELSE NULL END), 2) AS VL_MED_U6M_CONS_ESPORTES,\n",
        "  ROUND(AVG(CASE WHEN Categoria = 'Esportes' AND ultimos_9_meses_flag = 1 THEN Valor ELSE NULL END), 2) AS VL_MED_U9M_CONS_ESPORTES,\n",
        "  ROUND(AVG(CASE WHEN Categoria = 'Esportes' AND ultimos_12_meses_flag = 1 THEN Valor ELSE NULL END), 2) AS VL_MED_U12M_CONS_ESPORTES\n",
        "FROM\n",
        "  df_temp_flag_hist\n",
        "GROUP\n",
        "  BY `ID Cliente`\n",
        "ORDER BY\n",
        "  `ID Cliente`\n",
        "\n",
        "''')\n",
        "\n",
        "# Esse código cria ou substitui uma view temporária no Apache Spark.\n",
        "df_temp_10.createOrReplaceTempView('df_temp_10')\n",
        "\n",
        "# Checando o número de linhas desse DataFrame.\n",
        "print(f'Total de Linhas: {df_temp_10.count()}\\n')\n",
        "\n",
        "# Contando o número de novas variáveis criadas.\n",
        "print(f'Total de Variáveis Criadas: {len(df_temp_10.columns)-1}\\n')\n",
        "\n",
        "# Mostrando o novo DataFrame.\n",
        "df_temp_10.show(10, False)"
      ],
      "metadata": {
        "colab": {
          "base_uri": "https://localhost:8080/"
        },
        "id": "vCZ0rM4kqurn",
        "outputId": "7b53b72a-503f-4ffd-9fb5-20815f69c936"
      },
      "execution_count": 75,
      "outputs": [
        {
          "output_type": "stream",
          "name": "stdout",
          "text": [
            "Total de Linhas: 1000\n",
            "\n",
            "Total de Variáveis Criadas: 8\n",
            "\n",
            "+----------+------------------------+------------------------+------------------------+-------------------------+------------------------+------------------------+------------------------+-------------------------+\n",
            "|ID Cliente|VL_TOT_U3M_CONS_ESPORTES|VL_TOT_U6M_CONS_ESPORTES|VL_TOT_U9M_CONS_ESPORTES|VL_TOT_U12M_CONS_ESPORTES|VL_MED_U3M_CONS_ESPORTES|VL_MED_U6M_CONS_ESPORTES|VL_MED_U9M_CONS_ESPORTES|VL_MED_U12M_CONS_ESPORTES|\n",
            "+----------+------------------------+------------------------+------------------------+-------------------------+------------------------+------------------------+------------------------+-------------------------+\n",
            "|1         |57.29                   |57.29                   |57.29                   |57.29                    |57.29                   |57.29                   |57.29                   |57.29                    |\n",
            "|2         |57.35                   |57.35                   |169.25                  |169.25                   |57.35                   |57.35                   |84.62                   |84.62                    |\n",
            "|3         |164.27                  |164.27                  |164.27                  |164.27                   |164.27                  |164.27                  |164.27                  |164.27                   |\n",
            "|4         |null                    |null                    |null                    |null                     |null                    |null                    |null                    |null                     |\n",
            "|5         |null                    |null                    |148.03                  |148.03                   |null                    |null                    |148.03                  |148.03                   |\n",
            "|6         |127.34                  |127.34                  |127.34                  |127.34                   |127.34                  |127.34                  |127.34                  |127.34                   |\n",
            "|7         |97.0                    |137.2                   |137.2                   |137.2                    |97.0                    |68.6                    |68.6                    |68.6                     |\n",
            "|8         |null                    |null                    |150.17                  |150.17                   |null                    |null                    |150.17                  |150.17                   |\n",
            "|9         |null                    |null                    |null                    |null                     |null                    |null                    |null                    |null                     |\n",
            "|10        |null                    |null                    |null                    |null                     |null                    |null                    |null                    |null                     |\n",
            "+----------+------------------------+------------------------+------------------------+-------------------------+------------------------+------------------------+------------------------+-------------------------+\n",
            "only showing top 10 rows\n",
            "\n"
          ]
        }
      ]
    },
    {
      "cell_type": "markdown",
      "source": [
        "**11. Total e Média do Valor Gasto em Livros:** Esta variável calcula o total e a média dos gastos do cliente na categoria \"Livros\" nos últimos três, seis, nove e doze meses."
      ],
      "metadata": {
        "id": "vE50tLDyqw67"
      }
    },
    {
      "cell_type": "code",
      "source": [
        "df_temp_11 = spark.sql('''\n",
        "\n",
        "SELECT\n",
        "  `ID Cliente`,\n",
        "  ROUND(SUM(CASE WHEN Categoria = 'Livros' AND ultimos_3_meses_flag = 1 THEN Valor ELSE NULL END), 2) AS VL_TOT_U3M_CONS_LIVROS,\n",
        "  ROUND(SUM(CASE WHEN Categoria = 'Livros' AND ultimos_6_meses_flag = 1 THEN Valor ELSE NULL END), 2) AS VL_TOT_U6M_CONS_LIVROS,\n",
        "  ROUND(SUM(CASE WHEN Categoria = 'Livros' AND ultimos_9_meses_flag = 1 THEN Valor ELSE NULL END), 2) AS VL_TOT_U9M_CONS_LIVROS,\n",
        "  ROUND(SUM(CASE WHEN Categoria = 'Livros' AND ultimos_12_meses_flag = 1 THEN Valor ELSE NULL END), 2) AS VL_TOT_U12M_CONS_LIVROS,\n",
        "  ROUND(AVG(CASE WHEN Categoria = 'Livros' AND ultimos_3_meses_flag = 1 THEN Valor ELSE NULL END), 2) AS VL_MED_U3M_CONS_LIVROS,\n",
        "  ROUND(AVG(CASE WHEN Categoria = 'Livros' AND ultimos_6_meses_flag = 1 THEN Valor ELSE NULL END), 2) AS VL_MED_U6M_CONS_LIVROS,\n",
        "  ROUND(AVG(CASE WHEN Categoria = 'Livros' AND ultimos_9_meses_flag = 1 THEN Valor ELSE NULL END), 2) AS VL_MED_U9M_CONS_LIVROS,\n",
        "  ROUND(AVG(CASE WHEN Categoria = 'Livros' AND ultimos_12_meses_flag = 1 THEN Valor ELSE NULL END), 2) AS VL_MED_U12M_CONS_LIVROS\n",
        "FROM\n",
        "  df_temp_flag_hist\n",
        "GROUP\n",
        "  BY `ID Cliente`\n",
        "ORDER BY\n",
        "  `ID Cliente`\n",
        "\n",
        "''')\n",
        "\n",
        "# Esse código cria ou substitui uma view temporária no Apache Spark.\n",
        "df_temp_11.createOrReplaceTempView('df_temp_11')\n",
        "\n",
        "# Checando o número de linhas desse DataFrame.\n",
        "print(f'Total de Linhas: {df_temp_11.count()}\\n')\n",
        "\n",
        "# Contando o número de novas variáveis criadas.\n",
        "print(f'Total de Variáveis Criadas: {len(df_temp_11.columns)-1}\\n')\n",
        "\n",
        "# Mostrando o novo DataFrame.\n",
        "df_temp_11.show(10, False)"
      ],
      "metadata": {
        "colab": {
          "base_uri": "https://localhost:8080/"
        },
        "id": "VkNeXwmXqzNf",
        "outputId": "13fe14a0-7936-4650-cd72-c6125ccef7b9"
      },
      "execution_count": 76,
      "outputs": [
        {
          "output_type": "stream",
          "name": "stdout",
          "text": [
            "Total de Linhas: 1000\n",
            "\n",
            "Total de Variáveis Criadas: 8\n",
            "\n",
            "+----------+----------------------+----------------------+----------------------+-----------------------+----------------------+----------------------+----------------------+-----------------------+\n",
            "|ID Cliente|VL_TOT_U3M_CONS_LIVROS|VL_TOT_U6M_CONS_LIVROS|VL_TOT_U9M_CONS_LIVROS|VL_TOT_U12M_CONS_LIVROS|VL_MED_U3M_CONS_LIVROS|VL_MED_U6M_CONS_LIVROS|VL_MED_U9M_CONS_LIVROS|VL_MED_U12M_CONS_LIVROS|\n",
            "+----------+----------------------+----------------------+----------------------+-----------------------+----------------------+----------------------+----------------------+-----------------------+\n",
            "|1         |193.01                |193.01                |193.01                |551.06                 |193.01                |193.01                |193.01                |183.69                 |\n",
            "|2         |null                  |null                  |null                  |null                   |null                  |null                  |null                  |null                   |\n",
            "|3         |null                  |null                  |null                  |null                   |null                  |null                  |null                  |null                   |\n",
            "|4         |null                  |null                  |null                  |null                   |null                  |null                  |null                  |null                   |\n",
            "|5         |null                  |null                  |null                  |null                   |null                  |null                  |null                  |null                   |\n",
            "|6         |null                  |null                  |null                  |199.29                 |null                  |null                  |null                  |199.29                 |\n",
            "|7         |null                  |null                  |null                  |92.03                  |null                  |null                  |null                  |92.03                  |\n",
            "|8         |null                  |null                  |null                  |null                   |null                  |null                  |null                  |null                   |\n",
            "|9         |330.45                |330.45                |330.45                |330.45                 |165.23                |165.23                |165.23                |165.23                 |\n",
            "|10        |null                  |null                  |null                  |null                   |null                  |null                  |null                  |null                   |\n",
            "+----------+----------------------+----------------------+----------------------+-----------------------+----------------------+----------------------+----------------------+-----------------------+\n",
            "only showing top 10 rows\n",
            "\n"
          ]
        }
      ]
    },
    {
      "cell_type": "markdown",
      "source": [
        "**12. Total e Média do Valor Gasto em Roupas:** Esta variável calcula o total e a média dos gastos do cliente na categoria \"Roupas\" nos últimos três, seis, nove e doze meses."
      ],
      "metadata": {
        "id": "mis6FUgbq13x"
      }
    },
    {
      "cell_type": "code",
      "source": [
        "df_temp_12 = spark.sql('''\n",
        "\n",
        "SELECT\n",
        "  `ID Cliente`,\n",
        "  ROUND(SUM(CASE WHEN Categoria = 'Roupas' AND ultimos_3_meses_flag = 1 THEN Valor ELSE NULL END), 2) AS VL_TOT_U3M_CONS_ROUPAS,\n",
        "  ROUND(SUM(CASE WHEN Categoria = 'Roupas' AND ultimos_6_meses_flag = 1 THEN Valor ELSE NULL END), 2) AS VL_TOT_U6M_CONS_ROUPAS,\n",
        "  ROUND(SUM(CASE WHEN Categoria = 'Roupas' AND ultimos_9_meses_flag = 1 THEN Valor ELSE NULL END), 2) AS VL_TOT_U9M_CONS_ROUPAS,\n",
        "  ROUND(SUM(CASE WHEN Categoria = 'Roupas' AND ultimos_12_meses_flag = 1 THEN Valor ELSE NULL END), 2) AS VL_TOT_U12M_CONS_ROUPAS,\n",
        "  ROUND(AVG(CASE WHEN Categoria = 'Roupas' AND ultimos_3_meses_flag = 1 THEN Valor ELSE NULL END), 2) AS VL_MED_U3M_CONS_ROUPAS,\n",
        "  ROUND(AVG(CASE WHEN Categoria = 'Roupas' AND ultimos_6_meses_flag = 1 THEN Valor ELSE NULL END), 2) AS VL_MED_U6M_CONS_ROUPAS,\n",
        "  ROUND(AVG(CASE WHEN Categoria = 'Roupas' AND ultimos_9_meses_flag = 1 THEN Valor ELSE NULL END), 2) AS VL_MED_U9M_CONS_ROUPAS,\n",
        "  ROUND(AVG(CASE WHEN Categoria = 'Roupas' AND ultimos_12_meses_flag = 1 THEN Valor ELSE NULL END), 2) AS VL_MED_U12M_CONS_ROUPAS\n",
        "FROM\n",
        "  df_temp_flag_hist\n",
        "GROUP\n",
        "  BY `ID Cliente`\n",
        "ORDER BY\n",
        "  `ID Cliente`\n",
        "\n",
        "''')\n",
        "\n",
        "# Esse código cria ou substitui uma view temporária no Apache Spark.\n",
        "df_temp_12.createOrReplaceTempView('df_temp_12')\n",
        "\n",
        "# Checando o número de linhas desse DataFrame.\n",
        "print(f'Total de Linhas: {df_temp_12.count()}\\n')\n",
        "\n",
        "# Contando o número de novas variáveis criadas.\n",
        "print(f'Total de Variáveis Criadas: {len(df_temp_12.columns)-1}\\n')\n",
        "\n",
        "# Mostrando o novo DataFrame.\n",
        "df_temp_12.show(10, False)"
      ],
      "metadata": {
        "colab": {
          "base_uri": "https://localhost:8080/"
        },
        "id": "qjRKPbbKq44u",
        "outputId": "573cfc6f-a586-42d2-ab25-915835a7c6f8"
      },
      "execution_count": 77,
      "outputs": [
        {
          "output_type": "stream",
          "name": "stdout",
          "text": [
            "Total de Linhas: 1000\n",
            "\n",
            "Total de Variáveis Criadas: 8\n",
            "\n",
            "+----------+----------------------+----------------------+----------------------+-----------------------+----------------------+----------------------+----------------------+-----------------------+\n",
            "|ID Cliente|VL_TOT_U3M_CONS_ROUPAS|VL_TOT_U6M_CONS_ROUPAS|VL_TOT_U9M_CONS_ROUPAS|VL_TOT_U12M_CONS_ROUPAS|VL_MED_U3M_CONS_ROUPAS|VL_MED_U6M_CONS_ROUPAS|VL_MED_U9M_CONS_ROUPAS|VL_MED_U12M_CONS_ROUPAS|\n",
            "+----------+----------------------+----------------------+----------------------+-----------------------+----------------------+----------------------+----------------------+-----------------------+\n",
            "|1         |192.81                |198.2                 |198.2                 |397.59                 |96.4                  |66.07                 |66.07                 |99.4                   |\n",
            "|2         |null                  |null                  |null                  |null                   |null                  |null                  |null                  |null                   |\n",
            "|3         |null                  |null                  |null                  |null                   |null                  |null                  |null                  |null                   |\n",
            "|4         |null                  |178.83                |367.89                |367.89                 |null                  |178.83                |183.94                |183.94                 |\n",
            "|5         |150.11                |150.11                |150.11                |150.11                 |150.11                |150.11                |150.11                |150.11                 |\n",
            "|6         |null                  |null                  |null                  |null                   |null                  |null                  |null                  |null                   |\n",
            "|7         |103.96                |103.96                |103.96                |103.96                 |103.96                |103.96                |103.96                |103.96                 |\n",
            "|8         |null                  |null                  |null                  |null                   |null                  |null                  |null                  |null                   |\n",
            "|9         |null                  |null                  |null                  |null                   |null                  |null                  |null                  |null                   |\n",
            "|10        |null                  |null                  |null                  |null                   |null                  |null                  |null                  |null                   |\n",
            "+----------+----------------------+----------------------+----------------------+-----------------------+----------------------+----------------------+----------------------+-----------------------+\n",
            "only showing top 10 rows\n",
            "\n"
          ]
        }
      ]
    },
    {
      "cell_type": "markdown",
      "source": [
        "<br>"
      ],
      "metadata": {
        "id": "wnq6qntnWoZG"
      }
    },
    {
      "cell_type": "markdown",
      "source": [
        "## **Criação de variáveis de segunda camada.**"
      ],
      "metadata": {
        "id": "A7iIIgBiljQP"
      }
    },
    {
      "cell_type": "markdown",
      "source": [
        "**13. Razão entre variáveis históricas (uma variável dividida pela outra) - Categoria Alimentos.**"
      ],
      "metadata": {
        "id": "ASkHUqyT3Dz9"
      }
    },
    {
      "cell_type": "code",
      "source": [
        "df_temp_13 = spark.sql('''\n",
        "\n",
        "SELECT\n",
        "  `ID Cliente`,\n",
        "  ROUND(VL_TOT_U3M_CONS_ALIMENTOS/VL_TOT_U6M_CONS_ALIMENTOS, 2) AS VL_RAZ_TOT_U3M_U6M_CONS_ALI,\n",
        "  ROUND(VL_TOT_U6M_CONS_ALIMENTOS/VL_TOT_U9M_CONS_ALIMENTOS, 2) AS VL_RAZ_TOT_U6M_U9M_CONS_ALI,\n",
        "  ROUND(VL_TOT_U9M_CONS_ALIMENTOS/VL_TOT_U12M_CONS_ALIMENTOS, 2) AS VL_RAZ_TOT_U9M_U12M_CONS_ALI,\n",
        "  ROUND(VL_MED_U3M_CONS_ALIMENTOS/VL_MED_U6M_CONS_ALIMENTOS, 2) AS VL_RAZ_MED_U3M_U6M_CONS_ALI,\n",
        "  ROUND(VL_MED_U6M_CONS_ALIMENTOS/VL_MED_U9M_CONS_ALIMENTOS, 2) AS VL_RAZ_MED_U6M_U9M_CONS_ALI,\n",
        "  ROUND(VL_MED_U9M_CONS_ALIMENTOS/VL_MED_U12M_CONS_ALIMENTOS, 2) AS VL_RAZ_MED_U9M_U12M_CONS_ALI\n",
        "FROM\n",
        "  df_temp_08\n",
        "ORDER BY\n",
        "  `ID Cliente`\n",
        "\n",
        "''')\n",
        "\n",
        "# Esse código cria ou substitui uma view temporária no Apache Spark.\n",
        "df_temp_13.createOrReplaceTempView('df_temp_13')\n",
        "\n",
        "# Checando o número de linhas desse DataFrame.\n",
        "print(f'Total de Linhas: {df_temp_13.count()}\\n')\n",
        "\n",
        "# Contando o número de novas variáveis criadas.\n",
        "print(f'Total de Variáveis Criadas: {len(df_temp_13.columns)-1}\\n')\n",
        "\n",
        "# Mostrando o novo DataFrame.\n",
        "df_temp_13.show(10, False)"
      ],
      "metadata": {
        "colab": {
          "base_uri": "https://localhost:8080/"
        },
        "id": "OtkOLLBkli1E",
        "outputId": "6d1a9514-c560-4a77-e24e-13ab29aab776"
      },
      "execution_count": 78,
      "outputs": [
        {
          "output_type": "stream",
          "name": "stdout",
          "text": [
            "Total de Linhas: 1000\n",
            "\n",
            "Total de Variáveis Criadas: 6\n",
            "\n",
            "+----------+---------------------------+---------------------------+----------------------------+---------------------------+---------------------------+----------------------------+\n",
            "|ID Cliente|VL_RAZ_TOT_U3M_U6M_CONS_ALI|VL_RAZ_TOT_U6M_U9M_CONS_ALI|VL_RAZ_TOT_U9M_U12M_CONS_ALI|VL_RAZ_MED_U3M_U6M_CONS_ALI|VL_RAZ_MED_U6M_U9M_CONS_ALI|VL_RAZ_MED_U9M_U12M_CONS_ALI|\n",
            "+----------+---------------------------+---------------------------+----------------------------+---------------------------+---------------------------+----------------------------+\n",
            "|1         |null                       |1.0                        |1.0                         |null                       |1.0                        |1.0                         |\n",
            "|2         |0.43                       |1.0                        |1.0                         |0.87                       |1.0                        |1.0                         |\n",
            "|3         |null                       |null                       |null                        |null                       |null                       |null                        |\n",
            "|4         |1.0                        |1.0                        |1.0                         |1.0                        |1.0                        |1.0                         |\n",
            "|5         |null                       |null                       |null                        |null                       |null                       |null                        |\n",
            "|6         |null                       |null                       |null                        |null                       |null                       |null                        |\n",
            "|7         |null                       |1.0                        |1.0                         |null                       |1.0                        |1.0                         |\n",
            "|8         |null                       |null                       |1.0                         |null                       |null                       |1.0                         |\n",
            "|9         |1.0                        |0.59                       |1.0                         |1.0                        |1.19                       |1.0                         |\n",
            "|10        |null                       |null                       |null                        |null                       |null                       |null                        |\n",
            "+----------+---------------------------+---------------------------+----------------------------+---------------------------+---------------------------+----------------------------+\n",
            "only showing top 10 rows\n",
            "\n"
          ]
        }
      ]
    },
    {
      "cell_type": "markdown",
      "source": [
        "**14. Razão entre variáveis históricas (uma variável dividida pela outra) - Categoria Eletrônicos.**"
      ],
      "metadata": {
        "id": "Uh4CzfNq7VDA"
      }
    },
    {
      "cell_type": "code",
      "source": [
        "df_temp_14 = spark.sql('''\n",
        "\n",
        "SELECT\n",
        "  `ID Cliente`,\n",
        "  ROUND(VL_TOT_U3M_CONS_ELETRONICOS/VL_TOT_U6M_CONS_ELETRONICOS, 2) AS VL_RAZ_TOT_U3M_U6M_CONS_ELE,\n",
        "  ROUND(VL_TOT_U6M_CONS_ELETRONICOS/VL_TOT_U9M_CONS_ELETRONICOS, 2) AS VL_RAZ_TOT_U6M_U9M_CONS_ELE,\n",
        "  ROUND(VL_TOT_U9M_CONS_ELETRONICOS/VL_TOT_U12M_CONS_ELETRONICOS, 2) AS VL_RAZ_TOT_U9M_U12M_CONS_ELE,\n",
        "  ROUND(VL_MED_U3M_CONS_ELETRONICOS/VL_MED_U6M_CONS_ELETRONICOS, 2) AS VL_RAZ_MED_U3M_U6M_CONS_ELE,\n",
        "  ROUND(VL_MED_U6M_CONS_ELETRONICOS/VL_MED_U9M_CONS_ELETRONICOS, 2) AS VL_RAZ_MED_U6M_U9M_CONS_ELE,\n",
        "  ROUND(VL_MED_U9M_CONS_ELETRONICOS/VL_MED_U12M_CONS_ELETRONICOS, 2) AS VL_RAZ_MED_U9M_U12M_CONS_ELE\n",
        "FROM\n",
        "  df_temp_09\n",
        "ORDER BY\n",
        "  `ID Cliente`\n",
        "\n",
        "''')\n",
        "\n",
        "# Esse código cria ou substitui uma view temporária no Apache Spark.\n",
        "df_temp_14.createOrReplaceTempView('df_temp_14')\n",
        "\n",
        "# Checando o número de linhas desse DataFrame.\n",
        "print(f'Total de Linhas: {df_temp_14.count()}\\n')\n",
        "\n",
        "# Contando o número de novas variáveis criadas.\n",
        "print(f'Total de Variáveis Criadas: {len(df_temp_14.columns)-1}\\n')\n",
        "\n",
        "# Mostrando o novo DataFrame.\n",
        "df_temp_14.show(10, False)"
      ],
      "metadata": {
        "colab": {
          "base_uri": "https://localhost:8080/"
        },
        "outputId": "bd9d6a08-a87b-4405-adfc-f20fc03c19ba",
        "id": "9Qb1CJK47VDB"
      },
      "execution_count": 79,
      "outputs": [
        {
          "output_type": "stream",
          "name": "stdout",
          "text": [
            "Total de Linhas: 1000\n",
            "\n",
            "Total de Variáveis Criadas: 6\n",
            "\n",
            "+----------+---------------------------+---------------------------+----------------------------+---------------------------+---------------------------+----------------------------+\n",
            "|ID Cliente|VL_RAZ_TOT_U3M_U6M_CONS_ELE|VL_RAZ_TOT_U6M_U9M_CONS_ELE|VL_RAZ_TOT_U9M_U12M_CONS_ELE|VL_RAZ_MED_U3M_U6M_CONS_ELE|VL_RAZ_MED_U6M_U9M_CONS_ELE|VL_RAZ_MED_U9M_U12M_CONS_ELE|\n",
            "+----------+---------------------------+---------------------------+----------------------------+---------------------------+---------------------------+----------------------------+\n",
            "|1         |1.0                        |0.6                        |1.0                         |1.0                        |0.9                        |1.0                         |\n",
            "|2         |null                       |1.0                        |1.0                         |null                       |1.0                        |1.0                         |\n",
            "|3         |1.0                        |0.36                       |0.85                        |1.0                        |0.72                       |1.28                        |\n",
            "|4         |null                       |null                       |0.66                        |null                       |null                       |1.31                        |\n",
            "|5         |1.0                        |1.0                        |1.0                         |1.0                        |1.0                        |1.0                         |\n",
            "|6         |1.0                        |1.0                        |1.0                         |1.0                        |1.0                        |1.0                         |\n",
            "|7         |null                       |null                       |0.33                        |null                       |null                       |0.66                        |\n",
            "|8         |0.31                       |1.0                        |1.0                         |0.92                       |1.0                        |1.0                         |\n",
            "|9         |null                       |null                       |null                        |null                       |null                       |null                        |\n",
            "|10        |1.0                        |1.0                        |1.0                         |1.0                        |1.0                        |1.0                         |\n",
            "+----------+---------------------------+---------------------------+----------------------------+---------------------------+---------------------------+----------------------------+\n",
            "only showing top 10 rows\n",
            "\n"
          ]
        }
      ]
    },
    {
      "cell_type": "markdown",
      "source": [
        "**15. Razão entre variáveis históricas (uma variável dividida pela outra) - Categoria Esportes.**"
      ],
      "metadata": {
        "id": "bI0boPSx8S1i"
      }
    },
    {
      "cell_type": "code",
      "source": [
        "df_temp_15 = spark.sql('''\n",
        "\n",
        "SELECT\n",
        "  `ID Cliente`,\n",
        "  ROUND(VL_TOT_U3M_CONS_ESPORTES/VL_TOT_U6M_CONS_ESPORTES, 2) AS VL_RAZ_TOT_U3M_U6M_CONS_ESP,\n",
        "  ROUND(VL_TOT_U6M_CONS_ESPORTES/VL_TOT_U9M_CONS_ESPORTES, 2) AS VL_RAZ_TOT_U6M_U9M_CONS_ESP,\n",
        "  ROUND(VL_TOT_U9M_CONS_ESPORTES/VL_TOT_U12M_CONS_ESPORTES, 2) AS VL_RAZ_TOT_U9M_U12M_CONS_ESP,\n",
        "  ROUND(VL_MED_U3M_CONS_ESPORTES/VL_MED_U6M_CONS_ESPORTES, 2) AS VL_RAZ_MED_U3M_U6M_CONS_ESP,\n",
        "  ROUND(VL_MED_U6M_CONS_ESPORTES/VL_MED_U9M_CONS_ESPORTES, 2) AS VL_RAZ_MED_U6M_U9M_CONS_ESP,\n",
        "  ROUND(VL_MED_U9M_CONS_ESPORTES/VL_MED_U12M_CONS_ESPORTES, 2) AS VL_RAZ_MED_U9M_U12M_CONS_ESP\n",
        "FROM\n",
        "  df_temp_10\n",
        "ORDER BY\n",
        "  `ID Cliente`\n",
        "\n",
        "''')\n",
        "\n",
        "# Esse código cria ou substitui uma view temporária no Apache Spark.\n",
        "df_temp_15.createOrReplaceTempView('df_temp_15')\n",
        "\n",
        "# Checando o número de linhas desse DataFrame.\n",
        "print(f'Total de Linhas: {df_temp_15.count()}\\n')\n",
        "\n",
        "# Contando o número de novas variáveis criadas.\n",
        "print(f'Total de Variáveis Criadas: {len(df_temp_15.columns)-1}\\n')\n",
        "\n",
        "# Mostrando o novo DataFrame.\n",
        "df_temp_15.show(10, False)"
      ],
      "metadata": {
        "colab": {
          "base_uri": "https://localhost:8080/"
        },
        "outputId": "080887f3-c45e-4a96-c898-172fe5554627",
        "id": "MYARcXOV8S1i"
      },
      "execution_count": 80,
      "outputs": [
        {
          "output_type": "stream",
          "name": "stdout",
          "text": [
            "Total de Linhas: 1000\n",
            "\n",
            "Total de Variáveis Criadas: 6\n",
            "\n",
            "+----------+---------------------------+---------------------------+----------------------------+---------------------------+---------------------------+----------------------------+\n",
            "|ID Cliente|VL_RAZ_TOT_U3M_U6M_CONS_ESP|VL_RAZ_TOT_U6M_U9M_CONS_ESP|VL_RAZ_TOT_U9M_U12M_CONS_ESP|VL_RAZ_MED_U3M_U6M_CONS_ESP|VL_RAZ_MED_U6M_U9M_CONS_ESP|VL_RAZ_MED_U9M_U12M_CONS_ESP|\n",
            "+----------+---------------------------+---------------------------+----------------------------+---------------------------+---------------------------+----------------------------+\n",
            "|1         |1.0                        |1.0                        |1.0                         |1.0                        |1.0                        |1.0                         |\n",
            "|2         |1.0                        |0.34                       |1.0                         |1.0                        |0.68                       |1.0                         |\n",
            "|3         |1.0                        |1.0                        |1.0                         |1.0                        |1.0                        |1.0                         |\n",
            "|4         |null                       |null                       |null                        |null                       |null                       |null                        |\n",
            "|5         |null                       |null                       |1.0                         |null                       |null                       |1.0                         |\n",
            "|6         |1.0                        |1.0                        |1.0                         |1.0                        |1.0                        |1.0                         |\n",
            "|7         |0.71                       |1.0                        |1.0                         |1.41                       |1.0                        |1.0                         |\n",
            "|8         |null                       |null                       |1.0                         |null                       |null                       |1.0                         |\n",
            "|9         |null                       |null                       |null                        |null                       |null                       |null                        |\n",
            "|10        |null                       |null                       |null                        |null                       |null                       |null                        |\n",
            "+----------+---------------------------+---------------------------+----------------------------+---------------------------+---------------------------+----------------------------+\n",
            "only showing top 10 rows\n",
            "\n"
          ]
        }
      ]
    },
    {
      "cell_type": "markdown",
      "source": [
        "**16. Razão entre variáveis históricas (uma variável dividida pela outra) - Categoria Livros.**"
      ],
      "metadata": {
        "id": "WHkwNzsB9d7h"
      }
    },
    {
      "cell_type": "code",
      "source": [
        "df_temp_16 = spark.sql('''\n",
        "\n",
        "SELECT\n",
        "  `ID Cliente`,\n",
        "  ROUND(VL_TOT_U3M_CONS_LIVROS/VL_TOT_U6M_CONS_LIVROS, 2) AS VL_RAZ_TOT_U3M_U6M_CONS_LIV,\n",
        "  ROUND(VL_TOT_U6M_CONS_LIVROS/VL_TOT_U9M_CONS_LIVROS, 2) AS VL_RAZ_TOT_U6M_U9M_CONS_LIV,\n",
        "  ROUND(VL_TOT_U9M_CONS_LIVROS/VL_TOT_U12M_CONS_LIVROS, 2) AS VL_RAZ_TOT_U9M_U12M_CONS_LIV,\n",
        "  ROUND(VL_MED_U3M_CONS_LIVROS/VL_MED_U6M_CONS_LIVROS, 2) AS VL_RAZ_MED_U3M_U6M_CONS_LIV,\n",
        "  ROUND(VL_MED_U6M_CONS_LIVROS/VL_MED_U9M_CONS_LIVROS, 2) AS VL_RAZ_MED_U6M_U9M_CONS_LIV,\n",
        "  ROUND(VL_MED_U9M_CONS_LIVROS/VL_MED_U12M_CONS_LIVROS, 2) AS VL_RAZ_MED_U9M_U12M_CONS_LIV\n",
        "FROM\n",
        "  df_temp_11\n",
        "ORDER BY\n",
        "  `ID Cliente`\n",
        "\n",
        "''')\n",
        "\n",
        "# Esse código cria ou substitui uma view temporária no Apache Spark.\n",
        "df_temp_16.createOrReplaceTempView('df_temp_16')\n",
        "\n",
        "# Checando o número de linhas desse DataFrame.\n",
        "print(f'Total de Linhas: {df_temp_16.count()}\\n')\n",
        "\n",
        "# Contando o número de novas variáveis criadas.\n",
        "print(f'Total de Variáveis Criadas: {len(df_temp_16.columns)-1}\\n')\n",
        "\n",
        "# Mostrando o novo DataFrame.\n",
        "df_temp_16.show(10, False)"
      ],
      "metadata": {
        "colab": {
          "base_uri": "https://localhost:8080/"
        },
        "outputId": "2d7a33ea-e18f-43b4-e01e-da8104c115c3",
        "id": "e75SlMM19d7i"
      },
      "execution_count": 81,
      "outputs": [
        {
          "output_type": "stream",
          "name": "stdout",
          "text": [
            "Total de Linhas: 1000\n",
            "\n",
            "Total de Variáveis Criadas: 6\n",
            "\n",
            "+----------+---------------------------+---------------------------+----------------------------+---------------------------+---------------------------+----------------------------+\n",
            "|ID Cliente|VL_RAZ_TOT_U3M_U6M_CONS_LIV|VL_RAZ_TOT_U6M_U9M_CONS_LIV|VL_RAZ_TOT_U9M_U12M_CONS_LIV|VL_RAZ_MED_U3M_U6M_CONS_LIV|VL_RAZ_MED_U6M_U9M_CONS_LIV|VL_RAZ_MED_U9M_U12M_CONS_LIV|\n",
            "+----------+---------------------------+---------------------------+----------------------------+---------------------------+---------------------------+----------------------------+\n",
            "|1         |1.0                        |1.0                        |0.35                        |1.0                        |1.0                        |1.05                        |\n",
            "|2         |null                       |null                       |null                        |null                       |null                       |null                        |\n",
            "|3         |null                       |null                       |null                        |null                       |null                       |null                        |\n",
            "|4         |null                       |null                       |null                        |null                       |null                       |null                        |\n",
            "|5         |null                       |null                       |null                        |null                       |null                       |null                        |\n",
            "|6         |null                       |null                       |null                        |null                       |null                       |null                        |\n",
            "|7         |null                       |null                       |null                        |null                       |null                       |null                        |\n",
            "|8         |null                       |null                       |null                        |null                       |null                       |null                        |\n",
            "|9         |1.0                        |1.0                        |1.0                         |1.0                        |1.0                        |1.0                         |\n",
            "|10        |null                       |null                       |null                        |null                       |null                       |null                        |\n",
            "+----------+---------------------------+---------------------------+----------------------------+---------------------------+---------------------------+----------------------------+\n",
            "only showing top 10 rows\n",
            "\n"
          ]
        }
      ]
    },
    {
      "cell_type": "markdown",
      "source": [
        "**17. Razão entre variáveis históricas (uma variável dividida pela outra) - Categoria Roupas.**"
      ],
      "metadata": {
        "id": "wG4y0P4Z-9dO"
      }
    },
    {
      "cell_type": "code",
      "source": [
        "df_temp_17 = spark.sql('''\n",
        "\n",
        "SELECT\n",
        "  `ID Cliente`,\n",
        "  ROUND(VL_TOT_U3M_CONS_ROUPAS/VL_TOT_U6M_CONS_ROUPAS, 2) AS VL_RAZ_TOT_U3M_U6M_CONS_ROU,\n",
        "  ROUND(VL_TOT_U6M_CONS_ROUPAS/VL_TOT_U9M_CONS_ROUPAS, 2) AS VL_RAZ_TOT_U6M_U9M_CONS_ROU,\n",
        "  ROUND(VL_TOT_U9M_CONS_ROUPAS/VL_TOT_U12M_CONS_ROUPAS, 2) AS VL_RAZ_TOT_U9M_U12M_CONS_ROU,\n",
        "  ROUND(VL_MED_U3M_CONS_ROUPAS/VL_MED_U6M_CONS_ROUPAS, 2) AS VL_RAZ_MED_U3M_U6M_CONS_ROU,\n",
        "  ROUND(VL_MED_U6M_CONS_ROUPAS/VL_MED_U9M_CONS_ROUPAS, 2) AS VL_RAZ_MED_U6M_U9M_CONS_ROU,\n",
        "  ROUND(VL_MED_U9M_CONS_ROUPAS/VL_MED_U12M_CONS_ROUPAS, 2) AS VL_RAZ_MED_U9M_U12M_CONS_ROU\n",
        "FROM\n",
        "  df_temp_12\n",
        "ORDER BY\n",
        "  `ID Cliente`\n",
        "\n",
        "''')\n",
        "\n",
        "# Esse código cria ou substitui uma view temporária no Apache Spark.\n",
        "df_temp_17.createOrReplaceTempView('df_temp_17')\n",
        "\n",
        "# Checando o número de linhas desse DataFrame.\n",
        "print(f'Total de Linhas: {df_temp_17.count()}\\n')\n",
        "\n",
        "# Contando o número de novas variáveis criadas.\n",
        "print(f'Total de Variáveis Criadas: {len(df_temp_17.columns)-1}\\n')\n",
        "\n",
        "# Mostrando o novo DataFrame.\n",
        "df_temp_17.show(10, False)"
      ],
      "metadata": {
        "colab": {
          "base_uri": "https://localhost:8080/"
        },
        "outputId": "f3fd1ce8-8aeb-43ee-fb97-059a97937cd1",
        "id": "-pBWHRBp-9dO"
      },
      "execution_count": 82,
      "outputs": [
        {
          "output_type": "stream",
          "name": "stdout",
          "text": [
            "Total de Linhas: 1000\n",
            "\n",
            "Total de Variáveis Criadas: 6\n",
            "\n",
            "+----------+---------------------------+---------------------------+----------------------------+---------------------------+---------------------------+----------------------------+\n",
            "|ID Cliente|VL_RAZ_TOT_U3M_U6M_CONS_ROU|VL_RAZ_TOT_U6M_U9M_CONS_ROU|VL_RAZ_TOT_U9M_U12M_CONS_ROU|VL_RAZ_MED_U3M_U6M_CONS_ROU|VL_RAZ_MED_U6M_U9M_CONS_ROU|VL_RAZ_MED_U9M_U12M_CONS_ROU|\n",
            "+----------+---------------------------+---------------------------+----------------------------+---------------------------+---------------------------+----------------------------+\n",
            "|1         |0.97                       |1.0                        |0.5                         |1.46                       |1.0                        |0.66                        |\n",
            "|2         |null                       |null                       |null                        |null                       |null                       |null                        |\n",
            "|3         |null                       |null                       |null                        |null                       |null                       |null                        |\n",
            "|4         |null                       |0.49                       |1.0                         |null                       |0.97                       |1.0                         |\n",
            "|5         |1.0                        |1.0                        |1.0                         |1.0                        |1.0                        |1.0                         |\n",
            "|6         |null                       |null                       |null                        |null                       |null                       |null                        |\n",
            "|7         |1.0                        |1.0                        |1.0                         |1.0                        |1.0                        |1.0                         |\n",
            "|8         |null                       |null                       |null                        |null                       |null                       |null                        |\n",
            "|9         |null                       |null                       |null                        |null                       |null                       |null                        |\n",
            "|10        |null                       |null                       |null                        |null                       |null                       |null                        |\n",
            "+----------+---------------------------+---------------------------+----------------------------+---------------------------+---------------------------+----------------------------+\n",
            "only showing top 10 rows\n",
            "\n"
          ]
        }
      ]
    },
    {
      "cell_type": "markdown",
      "source": [
        "<br>"
      ],
      "metadata": {
        "id": "MeO3Dw0uWrHq"
      }
    },
    {
      "cell_type": "markdown",
      "source": [
        "##**Checando a quantidade de variáveis novas criadas.**"
      ],
      "metadata": {
        "id": "u7D9B7aEPxIW"
      }
    },
    {
      "cell_type": "code",
      "source": [
        "# Lista com os nomes dos DataFrames.\n",
        "view_names = ['df_temp_01', 'df_temp_02', 'df_temp_03', 'df_temp_04', 'df_temp_05', 'df_temp_06', 'df_temp_07', 'df_temp_08', 'df_temp_09', 'df_temp_10', 'df_temp_11', 'df_temp_12', 'df_temp_13', 'df_temp_14', 'df_temp_15', 'df_temp_16', 'df_temp_17']\n",
        "\n",
        "# Inicializando a variável de soma.\n",
        "resultado_soma = 0\n",
        "\n",
        "# Iterando sobre os nomes dos DataFrames.\n",
        "for nome_df in view_names:\n",
        "    # Obtendo o DataFrame usando globals().\n",
        "    df_atual = globals()[nome_df]\n",
        "\n",
        "    # Calculando o resultado e adicionando à soma.\n",
        "    resultado_soma += len(df_atual.columns) - 1\n",
        "\n",
        "# Exibindo o resultado.\n",
        "print('Quantidade de Variáveis Novas Criadas:', resultado_soma)"
      ],
      "metadata": {
        "colab": {
          "base_uri": "https://localhost:8080/"
        },
        "id": "DDMOHYdTP54F",
        "outputId": "c21199de-a5f0-459a-ff5f-f9e0a598e946"
      },
      "execution_count": 83,
      "outputs": [
        {
          "output_type": "stream",
          "name": "stdout",
          "text": [
            "Quantidade de Variáveis Novas Criadas: 90\n"
          ]
        }
      ]
    },
    {
      "cell_type": "markdown",
      "source": [
        "<br>"
      ],
      "metadata": {
        "id": "pfnP0oeqWsU_"
      }
    },
    {
      "cell_type": "markdown",
      "source": [
        "## **Criação e tratamento da Tabela Analítica de Modelagem (ABT).**"
      ],
      "metadata": {
        "id": "ibATv1h2Aclq"
      }
    },
    {
      "cell_type": "markdown",
      "source": [
        "**Juntando todas as variáveis criadas, em um único DataFrame.**"
      ],
      "metadata": {
        "id": "EdG9TF1MA2ww"
      }
    },
    {
      "cell_type": "code",
      "source": [
        "from functools import reduce\n",
        "\n",
        "# Lista com os nomes das views temporárias.\n",
        "view_names = ['df_temp_01', 'df_temp_02', 'df_temp_03', 'df_temp_04', 'df_temp_05', 'df_temp_06', 'df_temp_07', 'df_temp_08', 'df_temp_09', 'df_temp_10', 'df_temp_11', 'df_temp_12', 'df_temp_13', 'df_temp_14', 'df_temp_15', 'df_temp_16', 'df_temp_17']\n",
        "\n",
        "# Criando um DataFrame inicial.\n",
        "df_temp_combined = spark.table(view_names[0])\n",
        "\n",
        "# Iterarando sobre as views temporárias e realizar joins sucessivos.\n",
        "for name in view_names[1:]:\n",
        "    df_temp_combined = df_temp_combined.join(spark.table(name), 'ID Cliente', 'inner')\n",
        "\n",
        "# Esse código cria ou substitui uma view temporária no Apache Spark.\n",
        "df_temp_combined.createOrReplaceTempView('df_temp_combined')\n",
        "\n",
        "# Checando o número de linhas desse DataFrame.\n",
        "num_rows = df_temp_combined.count()\n",
        "print(f'Número de Linhas: {num_rows}\\n')\n",
        "\n",
        "# Contando o número total de novas variáveis criadas.\n",
        "num_columns = len(df_temp_combined.columns)-1\n",
        "print(f'Número de Variáveis Novas Criadas: {num_columns}\\n')\n",
        "\n",
        "# Exibindo o novo DataFrame resultante do join.\n",
        "df_temp_combined.show(10, False)"
      ],
      "metadata": {
        "colab": {
          "base_uri": "https://localhost:8080/"
        },
        "id": "PmyfEzlRH6XN",
        "outputId": "7819a442-6332-4a17-9f3a-014387c30123"
      },
      "execution_count": 84,
      "outputs": [
        {
          "output_type": "stream",
          "name": "stdout",
          "text": [
            "Número de Linhas: 1000\n",
            "\n",
            "Número de Variáveis Novas Criadas: 90\n",
            "\n",
            "+----------+---------------+--------------------+--------------------------+---------------+------------+------------+------------+------------+----------------------+----------------------+------------------------+------------------------+---------------------+---------------------+-------------------+-------------------+-------------------+-------------------+--------------+-------------+-------------------------+-------------------------+-------------------------+--------------------------+-------------------------+-------------------------+-------------------------+--------------------------+---------------------------+---------------------------+---------------------------+----------------------------+---------------------------+---------------------------+---------------------------+----------------------------+------------------------+------------------------+------------------------+-------------------------+------------------------+------------------------+------------------------+-------------------------+----------------------+----------------------+----------------------+-----------------------+----------------------+----------------------+----------------------+-----------------------+----------------------+----------------------+----------------------+-----------------------+----------------------+----------------------+----------------------+-----------------------+---------------------------+---------------------------+----------------------------+---------------------------+---------------------------+----------------------------+---------------------------+---------------------------+----------------------------+---------------------------+---------------------------+----------------------------+---------------------------+---------------------------+----------------------------+---------------------------+---------------------------+----------------------------+---------------------------+---------------------------+----------------------------+---------------------------+---------------------------+----------------------------+---------------------------+---------------------------+----------------------------+---------------------------+---------------------------+----------------------------+\n",
            "|ID Cliente|UTL_DATA_COMPRA|DIAS_DESDE_ULT_TRANS|QTD_DIAS_DESDE_PRIM_COMPRA|QTD_COMPRAS_MES|VL_TOT_GASTO|VL_MED_GASTO|VL_MAX_GASTO|VL_MIN_GASTO|VL_TOT_GASTO_ALIMENTOS|VL_MED_GASTO_ALIMENTOS|VL_TOT_GASTO_ELETRONICOS|VL_MED_GASTO_ELETRONICOS|VL_TOT_GASTO_ESPORTES|VL_MED_GASTO_ESPORTES|VL_TOT_GASTO_LIVROS|VL_MED_GASTO_LIVROS|VL_TOT_GASTO_ROUPAS|VL_MED_GASTO_ROUPAS|CATEG_FAVORITA|QTD_CATEG_DIF|VL_TOT_U3M_CONS_ALIMENTOS|VL_TOT_U6M_CONS_ALIMENTOS|VL_TOT_U9M_CONS_ALIMENTOS|VL_TOT_U12M_CONS_ALIMENTOS|VL_MED_U3M_CONS_ALIMENTOS|VL_MED_U6M_CONS_ALIMENTOS|VL_MED_U9M_CONS_ALIMENTOS|VL_MED_U12M_CONS_ALIMENTOS|VL_TOT_U3M_CONS_ELETRONICOS|VL_TOT_U6M_CONS_ELETRONICOS|VL_TOT_U9M_CONS_ELETRONICOS|VL_TOT_U12M_CONS_ELETRONICOS|VL_MED_U3M_CONS_ELETRONICOS|VL_MED_U6M_CONS_ELETRONICOS|VL_MED_U9M_CONS_ELETRONICOS|VL_MED_U12M_CONS_ELETRONICOS|VL_TOT_U3M_CONS_ESPORTES|VL_TOT_U6M_CONS_ESPORTES|VL_TOT_U9M_CONS_ESPORTES|VL_TOT_U12M_CONS_ESPORTES|VL_MED_U3M_CONS_ESPORTES|VL_MED_U6M_CONS_ESPORTES|VL_MED_U9M_CONS_ESPORTES|VL_MED_U12M_CONS_ESPORTES|VL_TOT_U3M_CONS_LIVROS|VL_TOT_U6M_CONS_LIVROS|VL_TOT_U9M_CONS_LIVROS|VL_TOT_U12M_CONS_LIVROS|VL_MED_U3M_CONS_LIVROS|VL_MED_U6M_CONS_LIVROS|VL_MED_U9M_CONS_LIVROS|VL_MED_U12M_CONS_LIVROS|VL_TOT_U3M_CONS_ROUPAS|VL_TOT_U6M_CONS_ROUPAS|VL_TOT_U9M_CONS_ROUPAS|VL_TOT_U12M_CONS_ROUPAS|VL_MED_U3M_CONS_ROUPAS|VL_MED_U6M_CONS_ROUPAS|VL_MED_U9M_CONS_ROUPAS|VL_MED_U12M_CONS_ROUPAS|VL_RAZ_TOT_U3M_U6M_CONS_ALI|VL_RAZ_TOT_U6M_U9M_CONS_ALI|VL_RAZ_TOT_U9M_U12M_CONS_ALI|VL_RAZ_MED_U3M_U6M_CONS_ALI|VL_RAZ_MED_U6M_U9M_CONS_ALI|VL_RAZ_MED_U9M_U12M_CONS_ALI|VL_RAZ_TOT_U3M_U6M_CONS_ELE|VL_RAZ_TOT_U6M_U9M_CONS_ELE|VL_RAZ_TOT_U9M_U12M_CONS_ELE|VL_RAZ_MED_U3M_U6M_CONS_ELE|VL_RAZ_MED_U6M_U9M_CONS_ELE|VL_RAZ_MED_U9M_U12M_CONS_ELE|VL_RAZ_TOT_U3M_U6M_CONS_ESP|VL_RAZ_TOT_U6M_U9M_CONS_ESP|VL_RAZ_TOT_U9M_U12M_CONS_ESP|VL_RAZ_MED_U3M_U6M_CONS_ESP|VL_RAZ_MED_U6M_U9M_CONS_ESP|VL_RAZ_MED_U9M_U12M_CONS_ESP|VL_RAZ_TOT_U3M_U6M_CONS_LIV|VL_RAZ_TOT_U6M_U9M_CONS_LIV|VL_RAZ_TOT_U9M_U12M_CONS_LIV|VL_RAZ_MED_U3M_U6M_CONS_LIV|VL_RAZ_MED_U6M_U9M_CONS_LIV|VL_RAZ_MED_U9M_U12M_CONS_LIV|VL_RAZ_TOT_U3M_U6M_CONS_ROU|VL_RAZ_TOT_U6M_U9M_CONS_ROU|VL_RAZ_TOT_U9M_U12M_CONS_ROU|VL_RAZ_MED_U3M_U6M_CONS_ROU|VL_RAZ_MED_U6M_U9M_CONS_ROU|VL_RAZ_MED_U9M_U12M_CONS_ROU|\n",
            "+----------+---------------+--------------------+--------------------------+---------------+------------+------------+------------+------------+----------------------+----------------------+------------------------+------------------------+---------------------+---------------------+-------------------+-------------------+-------------------+-------------------+--------------+-------------+-------------------------+-------------------------+-------------------------+--------------------------+-------------------------+-------------------------+-------------------------+--------------------------+---------------------------+---------------------------+---------------------------+----------------------------+---------------------------+---------------------------+---------------------------+----------------------------+------------------------+------------------------+------------------------+-------------------------+------------------------+------------------------+------------------------+-------------------------+----------------------+----------------------+----------------------+-----------------------+----------------------+----------------------+----------------------+-----------------------+----------------------+----------------------+----------------------+-----------------------+----------------------+----------------------+----------------------+-----------------------+---------------------------+---------------------------+----------------------------+---------------------------+---------------------------+----------------------------+---------------------------+---------------------------+----------------------------+---------------------------+---------------------------+----------------------------+---------------------------+---------------------------+----------------------------+---------------------------+---------------------------+----------------------------+---------------------------+---------------------------+----------------------------+---------------------------+---------------------------+----------------------------+---------------------------+---------------------------+----------------------------+---------------------------+---------------------------+----------------------------+\n",
            "|148       |2022-12-05     |345                 |1067                      |0.38           |1767.92     |98.22       |190.06      |20.32       |665.83                |110.97                |280.39                  |93.46                   |463.3                |77.22                |218.87             |109.43             |139.53             |139.53             |Alimentos     |5            |83.42                    |83.42                    |213.11                   |213.11                    |83.42                    |83.42                    |106.55                   |106.55                    |63.83                      |63.83                      |63.83                      |63.83                       |63.83                      |63.83                      |63.83                      |63.83                       |190.06                  |210.38                  |275.06                  |275.06                   |190.06                  |105.19                  |91.69                   |91.69                    |null                  |null                  |null                  |null                   |null                  |null                  |null                  |null                   |null                  |139.53                |139.53                |139.53                 |null                  |139.53                |139.53                |139.53                 |1.0                        |0.39                       |1.0                         |1.0                        |0.78                       |1.0                         |1.0                        |1.0                        |1.0                         |1.0                        |1.0                        |1.0                         |0.9                        |0.76                       |1.0                         |1.81                       |1.15                       |1.0                         |null                       |null                       |null                        |null                       |null                       |null                        |null                       |1.0                        |1.0                         |null                       |1.0                        |1.0                         |\n",
            "|463       |2022-11-10     |370                 |893                       |0.14           |559.76      |93.29       |156.69      |8.16        |0.0                   |null                  |150.78                  |75.39                   |63.06                |63.06                |156.69             |156.69             |189.23             |94.61              |Roupas        |4            |null                     |null                     |null                     |null                      |null                     |null                     |null                     |null                      |null                       |null                       |null                       |142.62                      |null                       |null                       |null                       |142.62                      |63.06                   |63.06                   |63.06                   |63.06                    |63.06                   |63.06                   |63.06                   |63.06                    |156.69                |156.69                |156.69                |156.69                 |156.69                |156.69                |156.69                |156.69                 |80.97                 |80.97                 |80.97                 |80.97                  |80.97                 |80.97                 |80.97                 |80.97                  |null                       |null                       |null                        |null                       |null                       |null                        |null                       |null                       |null                        |null                       |null                       |null                        |1.0                        |1.0                        |1.0                         |1.0                        |1.0                        |1.0                         |1.0                        |1.0                        |1.0                         |1.0                        |1.0                        |1.0                         |1.0                        |1.0                        |1.0                         |1.0                        |1.0                        |1.0                         |\n",
            "|471       |2022-12-17     |333                 |1006                      |0.38           |2307.39     |135.73      |193.7       |64.6        |482.8                 |120.7                 |549.61                  |137.4                   |170.39               |170.39               |359.37             |119.79             |745.22             |149.04             |Roupas        |5            |88.59                    |173.17                   |173.17                   |173.17                    |88.59                    |86.58                    |86.58                    |86.58                     |null                       |null                       |154.98                     |154.98                      |null                       |null                       |154.98                     |154.98                      |null                    |null                    |null                    |null                     |null                    |null                    |null                    |null                     |null                  |null                  |null                  |null                   |null                  |null                  |null                  |null                   |141.63                |283.92                |450.08                |450.08                 |141.63                |141.96                |150.03                |150.03                 |0.51                       |1.0                        |1.0                         |1.02                       |1.0                        |1.0                         |null                       |null                       |1.0                         |null                       |null                       |1.0                         |null                       |null                       |null                        |null                       |null                       |null                        |null                       |null                       |null                        |null                       |null                       |null                        |0.5                        |0.63                       |1.0                         |1.0                        |0.95                       |1.0                         |\n",
            "|496       |2021-08-31     |806                 |278                       |0.06           |170.62      |85.31       |105.74      |64.87       |0.0                   |null                  |0.0                     |null                    |0.0                  |null                 |64.87              |64.87              |105.74             |105.74             |Roupas        |2            |null                     |null                     |null                     |null                      |null                     |null                     |null                     |null                      |null                       |null                       |null                       |null                        |null                       |null                       |null                       |null                        |null                    |null                    |null                    |null                     |null                    |null                    |null                    |null                     |null                  |null                  |null                  |64.87                  |null                  |null                  |null                  |64.87                  |105.74                |105.74                |105.74                |105.74                 |105.74                |105.74                |105.74                |105.74                 |null                       |null                       |null                        |null                       |null                       |null                        |null                       |null                       |null                        |null                       |null                       |null                        |null                       |null                       |null                        |null                       |null                       |null                        |null                       |null                       |null                        |null                       |null                       |null                        |1.0                        |1.0                        |1.0                         |1.0                        |1.0                        |1.0                         |\n",
            "|833       |2022-07-09     |494                 |891                       |0.19           |917.53      |101.95      |184.31      |9.73        |153.81                |153.81                |224.88                  |112.44                  |85.88                |85.88                |353.84             |117.95             |99.12              |49.56              |Livros        |5            |null                     |null                     |null                     |153.81                    |null                     |null                     |null                     |153.81                    |175.14                     |175.14                     |175.14                     |175.14                      |175.14                     |175.14                     |175.14                     |175.14                      |null                    |null                    |null                    |null                     |null                    |null                    |null                    |null                     |116.39                |116.39                |116.39                |116.39                 |116.39                |116.39                |116.39                |116.39                 |null                  |null                  |null                  |null                   |null                  |null                  |null                  |null                   |null                       |null                       |null                        |null                       |null                       |null                        |1.0                        |1.0                        |1.0                         |1.0                        |1.0                        |1.0                         |null                       |null                       |null                        |null                       |null                       |null                        |1.0                        |1.0                        |1.0                         |1.0                        |1.0                        |1.0                         |null                       |null                       |null                        |null                       |null                       |null                        |\n",
            "|243       |2022-07-05     |498                 |689                       |0.18           |692.16      |98.88       |193.33      |20.31       |0.0                   |null                  |368.81                  |122.94                  |30.02                |30.02                |193.33             |193.33             |100.0              |50.0               |Eletrônicos   |4            |null                     |null                     |null                     |null                      |null                     |null                     |null                     |null                      |157.53                     |235.03                     |235.03                     |235.03                      |157.53                     |117.51                     |117.51                     |117.51                      |null                    |null                    |30.02                   |30.02                    |null                    |null                    |30.02                   |30.02                    |null                  |null                  |null                  |null                   |null                  |null                  |null                  |null                   |null                  |null                  |null                  |null                   |null                  |null                  |null                  |null                   |null                       |null                       |null                        |null                       |null                       |null                        |0.67                       |1.0                        |1.0                         |1.34                       |1.0                        |1.0                         |null                       |null                       |1.0                         |null                       |null                       |1.0                         |null                       |null                       |null                        |null                       |null                       |null                        |null                       |null                       |null                        |null                       |null                       |null                        |\n",
            "|392       |2022-12-10     |340                 |835                       |0.31           |1375.22     |114.6       |196.9       |12.52       |301.92                |100.64                |32.69                   |32.69                   |329.96               |164.98               |306.34             |102.11             |404.31             |134.77             |Roupas        |5            |187.32                   |187.32                   |187.32                   |199.84                    |187.32                   |187.32                   |187.32                   |99.92                     |null                       |null                       |null                       |null                        |null                       |null                       |null                       |null                        |191.38                  |191.38                  |191.38                  |191.38                   |191.38                  |191.38                  |191.38                  |191.38                   |109.45                |109.45                |306.34                |306.34                 |54.72                 |54.72                 |102.11                |102.11                 |null                  |null                  |null                  |105.96                 |null                  |null                  |null                  |105.96                 |1.0                        |1.0                        |0.94                        |1.0                        |1.0                        |1.87                        |null                       |null                       |null                        |null                       |null                       |null                        |1.0                        |1.0                        |1.0                         |1.0                        |1.0                        |1.0                         |1.0                        |0.36                       |1.0                         |1.0                        |0.54                       |1.0                         |null                       |null                       |null                        |null                       |null                       |null                        |\n",
            "|540       |2022-12-27     |323                 |999                       |0.32           |1300.14     |92.87       |184.29      |8.12        |234.62                |117.31                |184.29                  |184.29                  |509.46               |72.78                |371.77             |92.94              |0.0                |null               |Esportes      |4            |null                     |null                     |null                     |null                      |null                     |null                     |null                     |null                      |null                       |null                       |null                       |184.29                      |null                       |null                       |null                       |184.29                      |null                    |118.75                  |160.81                  |160.81                   |null                    |59.37                   |53.6                    |53.6                     |74.73                 |74.73                 |74.73                 |74.73                  |74.73                 |74.73                 |74.73                 |74.73                  |null                  |null                  |null                  |null                   |null                  |null                  |null                  |null                   |null                       |null                       |null                        |null                       |null                       |null                        |null                       |null                       |null                        |null                       |null                       |null                        |null                       |0.74                       |1.0                         |null                       |1.11                       |1.0                         |1.0                        |1.0                        |1.0                         |1.0                        |1.0                        |1.0                         |null                       |null                       |null                        |null                       |null                       |null                        |\n",
            "|623       |2022-08-13     |459                 |945                       |0.32           |1409.27     |93.95       |189.37      |6.44        |461.75                |92.35                 |27.59                   |27.59                   |225.11               |75.04                |201.08             |100.54             |493.74             |123.43             |Roupas        |5            |null                     |null                     |252.37                   |252.37                    |null                     |null                     |126.19                   |126.19                    |null                       |27.59                      |27.59                      |27.59                       |null                       |27.59                      |27.59                      |27.59                       |218.67                  |218.67                  |218.67                  |218.67                   |109.34                  |109.34                  |109.34                  |109.34                   |null                  |null                  |null                  |null                   |null                  |null                  |null                  |null                   |null                  |null                  |null                  |null                   |null                  |null                  |null                  |null                   |null                       |null                       |1.0                         |null                       |null                       |1.0                         |null                       |1.0                        |1.0                         |null                       |1.0                        |1.0                         |1.0                        |1.0                        |1.0                         |1.0                        |1.0                        |1.0                         |null                       |null                       |null                        |null                       |null                       |null                        |null                       |null                       |null                        |null                       |null                       |null                        |\n",
            "|737       |2022-09-02     |439                 |622                       |0.14           |529.76      |105.95      |193.19      |15.5        |0.0                   |null                  |316.26                  |158.13                  |0.0                  |null                 |0.0                |null               |213.5              |71.17              |Eletrônicos   |2            |null                     |null                     |null                     |null                      |null                     |null                     |null                     |null                      |null                       |123.07                     |123.07                     |123.07                      |null                       |123.07                     |123.07                     |123.07                      |null                    |null                    |null                    |null                     |null                    |null                    |null                    |null                     |null                  |null                  |null                  |null                   |null                  |null                  |null                  |null                   |15.5                  |15.5                  |213.5                 |213.5                  |15.5                  |15.5                  |71.17                 |71.17                  |null                       |null                       |null                        |null                       |null                       |null                        |null                       |1.0                        |1.0                         |null                       |1.0                        |1.0                         |null                       |null                       |null                        |null                       |null                       |null                        |null                       |null                       |null                        |null                       |null                       |null                        |1.0                        |0.07                       |1.0                         |1.0                        |0.22                       |1.0                         |\n",
            "+----------+---------------+--------------------+--------------------------+---------------+------------+------------+------------+------------+----------------------+----------------------+------------------------+------------------------+---------------------+---------------------+-------------------+-------------------+-------------------+-------------------+--------------+-------------+-------------------------+-------------------------+-------------------------+--------------------------+-------------------------+-------------------------+-------------------------+--------------------------+---------------------------+---------------------------+---------------------------+----------------------------+---------------------------+---------------------------+---------------------------+----------------------------+------------------------+------------------------+------------------------+-------------------------+------------------------+------------------------+------------------------+-------------------------+----------------------+----------------------+----------------------+-----------------------+----------------------+----------------------+----------------------+-----------------------+----------------------+----------------------+----------------------+-----------------------+----------------------+----------------------+----------------------+-----------------------+---------------------------+---------------------------+----------------------------+---------------------------+---------------------------+----------------------------+---------------------------+---------------------------+----------------------------+---------------------------+---------------------------+----------------------------+---------------------------+---------------------------+----------------------------+---------------------------+---------------------------+----------------------------+---------------------------+---------------------------+----------------------------+---------------------------+---------------------------+----------------------------+---------------------------+---------------------------+----------------------------+---------------------------+---------------------------+----------------------------+\n",
            "only showing top 10 rows\n",
            "\n"
          ]
        }
      ]
    },
    {
      "cell_type": "markdown",
      "source": [
        "**Juntando as variáveis explicativas com a base de público.**"
      ],
      "metadata": {
        "id": "wXN-pY1nRWn0"
      }
    },
    {
      "cell_type": "code",
      "source": [
        "# Fazendo um Left Join para incluir as variáveis explicativas que foram criadas, na tabela de público.\n",
        "abt_temp_01 = spark.sql('''\n",
        "\n",
        "SELECT\n",
        "  pub.*,\n",
        "  com.*,\n",
        "  date_format(CURRENT_DATE, 'yyyyMM') AS PK_DATREF,\n",
        "  CURRENT_DATE AS PK_DAT_PROC\n",
        "FROM\n",
        "  df_publico AS pub\n",
        "  left join\n",
        "  df_temp_combined AS com\n",
        "  on\n",
        "  pub.ID = com.`ID Cliente`\n",
        "ORDER BY\n",
        "  ID\n",
        "\n",
        "''')\n",
        "\n",
        "# Contando o número de linhas dessa ABT.\n",
        "# Importante fazer essa checagem (check de sanidade) para ver se o número de linhas bate com o número de linhas da tabela de público original. Se não bater tem algo de errado com a chave.\n",
        "print(f'Total de Linhas: {abt_temp_01.count()}\\n')\n",
        "\n",
        "# Mostrando a ABT.\n",
        "abt_temp_01.show(10, False)"
      ],
      "metadata": {
        "colab": {
          "base_uri": "https://localhost:8080/"
        },
        "id": "bEvnhKAMA4AB",
        "outputId": "b100dd04-867d-47ff-8276-a72367734f96"
      },
      "execution_count": 85,
      "outputs": [
        {
          "output_type": "stream",
          "name": "stdout",
          "text": [
            "Total de Linhas: 1000\n",
            "\n",
            "+---+-----+------+----------------------+------------+-------------+-----+----------+---------------+--------------------+--------------------------+---------------+------------+------------+------------+------------+----------------------+----------------------+------------------------+------------------------+---------------------+---------------------+-------------------+-------------------+-------------------+-------------------+--------------+-------------+-------------------------+-------------------------+-------------------------+--------------------------+-------------------------+-------------------------+-------------------------+--------------------------+---------------------------+---------------------------+---------------------------+----------------------------+---------------------------+---------------------------+---------------------------+----------------------------+------------------------+------------------------+------------------------+-------------------------+------------------------+------------------------+------------------------+-------------------------+----------------------+----------------------+----------------------+-----------------------+----------------------+----------------------+----------------------+-----------------------+----------------------+----------------------+----------------------+-----------------------+----------------------+----------------------+----------------------+-----------------------+---------------------------+---------------------------+----------------------------+---------------------------+---------------------------+----------------------------+---------------------------+---------------------------+----------------------------+---------------------------+---------------------------+----------------------------+---------------------------+---------------------------+----------------------------+---------------------------+---------------------------+----------------------------+---------------------------+---------------------------+----------------------------+---------------------------+---------------------------+----------------------------+---------------------------+---------------------------+----------------------------+---------------------------+---------------------------+----------------------------+---------+-----------+\n",
            "|ID |Idade|Gênero|Dias desde a Inscrição|Usou Suporte|Plano        |Churn|ID Cliente|UTL_DATA_COMPRA|DIAS_DESDE_ULT_TRANS|QTD_DIAS_DESDE_PRIM_COMPRA|QTD_COMPRAS_MES|VL_TOT_GASTO|VL_MED_GASTO|VL_MAX_GASTO|VL_MIN_GASTO|VL_TOT_GASTO_ALIMENTOS|VL_MED_GASTO_ALIMENTOS|VL_TOT_GASTO_ELETRONICOS|VL_MED_GASTO_ELETRONICOS|VL_TOT_GASTO_ESPORTES|VL_MED_GASTO_ESPORTES|VL_TOT_GASTO_LIVROS|VL_MED_GASTO_LIVROS|VL_TOT_GASTO_ROUPAS|VL_MED_GASTO_ROUPAS|CATEG_FAVORITA|QTD_CATEG_DIF|VL_TOT_U3M_CONS_ALIMENTOS|VL_TOT_U6M_CONS_ALIMENTOS|VL_TOT_U9M_CONS_ALIMENTOS|VL_TOT_U12M_CONS_ALIMENTOS|VL_MED_U3M_CONS_ALIMENTOS|VL_MED_U6M_CONS_ALIMENTOS|VL_MED_U9M_CONS_ALIMENTOS|VL_MED_U12M_CONS_ALIMENTOS|VL_TOT_U3M_CONS_ELETRONICOS|VL_TOT_U6M_CONS_ELETRONICOS|VL_TOT_U9M_CONS_ELETRONICOS|VL_TOT_U12M_CONS_ELETRONICOS|VL_MED_U3M_CONS_ELETRONICOS|VL_MED_U6M_CONS_ELETRONICOS|VL_MED_U9M_CONS_ELETRONICOS|VL_MED_U12M_CONS_ELETRONICOS|VL_TOT_U3M_CONS_ESPORTES|VL_TOT_U6M_CONS_ESPORTES|VL_TOT_U9M_CONS_ESPORTES|VL_TOT_U12M_CONS_ESPORTES|VL_MED_U3M_CONS_ESPORTES|VL_MED_U6M_CONS_ESPORTES|VL_MED_U9M_CONS_ESPORTES|VL_MED_U12M_CONS_ESPORTES|VL_TOT_U3M_CONS_LIVROS|VL_TOT_U6M_CONS_LIVROS|VL_TOT_U9M_CONS_LIVROS|VL_TOT_U12M_CONS_LIVROS|VL_MED_U3M_CONS_LIVROS|VL_MED_U6M_CONS_LIVROS|VL_MED_U9M_CONS_LIVROS|VL_MED_U12M_CONS_LIVROS|VL_TOT_U3M_CONS_ROUPAS|VL_TOT_U6M_CONS_ROUPAS|VL_TOT_U9M_CONS_ROUPAS|VL_TOT_U12M_CONS_ROUPAS|VL_MED_U3M_CONS_ROUPAS|VL_MED_U6M_CONS_ROUPAS|VL_MED_U9M_CONS_ROUPAS|VL_MED_U12M_CONS_ROUPAS|VL_RAZ_TOT_U3M_U6M_CONS_ALI|VL_RAZ_TOT_U6M_U9M_CONS_ALI|VL_RAZ_TOT_U9M_U12M_CONS_ALI|VL_RAZ_MED_U3M_U6M_CONS_ALI|VL_RAZ_MED_U6M_U9M_CONS_ALI|VL_RAZ_MED_U9M_U12M_CONS_ALI|VL_RAZ_TOT_U3M_U6M_CONS_ELE|VL_RAZ_TOT_U6M_U9M_CONS_ELE|VL_RAZ_TOT_U9M_U12M_CONS_ELE|VL_RAZ_MED_U3M_U6M_CONS_ELE|VL_RAZ_MED_U6M_U9M_CONS_ELE|VL_RAZ_MED_U9M_U12M_CONS_ELE|VL_RAZ_TOT_U3M_U6M_CONS_ESP|VL_RAZ_TOT_U6M_U9M_CONS_ESP|VL_RAZ_TOT_U9M_U12M_CONS_ESP|VL_RAZ_MED_U3M_U6M_CONS_ESP|VL_RAZ_MED_U6M_U9M_CONS_ESP|VL_RAZ_MED_U9M_U12M_CONS_ESP|VL_RAZ_TOT_U3M_U6M_CONS_LIV|VL_RAZ_TOT_U6M_U9M_CONS_LIV|VL_RAZ_TOT_U9M_U12M_CONS_LIV|VL_RAZ_MED_U3M_U6M_CONS_LIV|VL_RAZ_MED_U6M_U9M_CONS_LIV|VL_RAZ_MED_U9M_U12M_CONS_LIV|VL_RAZ_TOT_U3M_U6M_CONS_ROU|VL_RAZ_TOT_U6M_U9M_CONS_ROU|VL_RAZ_TOT_U9M_U12M_CONS_ROU|VL_RAZ_MED_U3M_U6M_CONS_ROU|VL_RAZ_MED_U6M_U9M_CONS_ROU|VL_RAZ_MED_U9M_U12M_CONS_ROU|PK_DATREF|PK_DAT_PROC|\n",
            "+---+-----+------+----------------------+------------+-------------+-----+----------+---------------+--------------------+--------------------------+---------------+------------+------------+------------+------------+----------------------+----------------------+------------------------+------------------------+---------------------+---------------------+-------------------+-------------------+-------------------+-------------------+--------------+-------------+-------------------------+-------------------------+-------------------------+--------------------------+-------------------------+-------------------------+-------------------------+--------------------------+---------------------------+---------------------------+---------------------------+----------------------------+---------------------------+---------------------------+---------------------------+----------------------------+------------------------+------------------------+------------------------+-------------------------+------------------------+------------------------+------------------------+-------------------------+----------------------+----------------------+----------------------+-----------------------+----------------------+----------------------+----------------------+-----------------------+----------------------+----------------------+----------------------+-----------------------+----------------------+----------------------+----------------------+-----------------------+---------------------------+---------------------------+----------------------------+---------------------------+---------------------------+----------------------------+---------------------------+---------------------------+----------------------------+---------------------------+---------------------------+----------------------------+---------------------------+---------------------------+----------------------------+---------------------------+---------------------------+----------------------------+---------------------------+---------------------------+----------------------------+---------------------------+---------------------------+----------------------------+---------------------------+---------------------------+----------------------------+---------------------------+---------------------------+----------------------------+---------+-----------+\n",
            "|1  |21   |F     |1331                  |1           |Intermediário|1    |1         |2022-12-18     |332                 |1064                      |0.37           |1976.56     |116.27      |199.39      |5.39        |351.26                |87.81                 |396.72                  |132.24                  |226.73               |113.37               |551.06             |183.69             |450.79             |90.16              |Livros        |5            |null                     |187.82                   |187.82                   |187.82                    |null                     |187.82                   |187.82                   |187.82                    |236.91                     |236.91                     |396.72                     |396.72                      |118.45                     |118.45                     |132.24                     |132.24                      |57.29                   |57.29                   |57.29                   |57.29                    |57.29                   |57.29                   |57.29                   |57.29                    |193.01                |193.01                |193.01                |551.06                 |193.01                |193.01                |193.01                |183.69                 |192.81                |198.2                 |198.2                 |397.59                 |96.4                  |66.07                 |66.07                 |99.4                   |null                       |1.0                        |1.0                         |null                       |1.0                        |1.0                         |1.0                        |0.6                        |1.0                         |1.0                        |0.9                        |1.0                         |1.0                        |1.0                        |1.0                         |1.0                        |1.0                        |1.0                         |1.0                        |1.0                        |0.35                        |1.0                        |1.0                        |1.05                        |0.97                       |1.0                        |0.5                         |1.46                       |1.0                        |0.66                        |202311   |2023-11-15 |\n",
            "|2  |21   |M     |1160                  |0           |Intermediário|0    |2         |2021-12-07     |708                 |701                       |0.21           |1017.8      |101.78      |192.63      |47.58       |109.58                |54.79                 |292.16                  |97.39                   |275.47               |91.82                |340.59             |170.29             |0.0                |null               |Livros        |4            |47.58                    |109.58                   |109.58                   |109.58                    |47.58                    |54.79                    |54.79                    |54.79                     |null                       |69.05                      |69.05                      |69.05                       |null                       |69.05                      |69.05                      |69.05                       |57.35                   |57.35                   |169.25                  |169.25                   |57.35                   |57.35                   |84.62                   |84.62                    |null                  |null                  |null                  |null                   |null                  |null                  |null                  |null                   |null                  |null                  |null                  |null                   |null                  |null                  |null                  |null                   |0.43                       |1.0                        |1.0                         |0.87                       |1.0                        |1.0                         |null                       |1.0                        |1.0                         |null                       |1.0                        |1.0                         |1.0                        |0.34                       |1.0                         |1.0                        |0.68                       |1.0                         |null                       |null                       |null                        |null                       |null                       |null                        |null                       |null                       |null                        |null                       |null                       |null                        |202311   |2023-11-15 |\n",
            "|3  |62   |M     |454                   |1           |Básico       |0    |3         |2022-11-21     |359                 |1033                      |0.19           |997.81      |110.87      |191.09      |41.91       |247.52                |123.76                |317.38                  |105.79                  |327.09               |163.55               |105.81             |52.91              |0.0                |null               |Esportes      |4            |null                     |null                     |null                     |null                      |null                     |null                     |null                     |null                      |97.44                      |97.44                      |270.6                      |317.38                      |97.44                      |97.44                      |135.3                      |105.79                      |164.27                  |164.27                  |164.27                  |164.27                   |164.27                  |164.27                  |164.27                  |164.27                   |null                  |null                  |null                  |null                   |null                  |null                  |null                  |null                   |null                  |null                  |null                  |null                   |null                  |null                  |null                  |null                   |null                       |null                       |null                        |null                       |null                       |null                        |1.0                        |0.36                       |0.85                        |1.0                        |0.72                       |1.28                        |1.0                        |1.0                        |1.0                         |1.0                        |1.0                        |1.0                         |null                       |null                       |null                        |null                       |null                       |null                        |null                       |null                       |null                        |null                       |null                       |null                        |202311   |2023-11-15 |\n",
            "|4  |64   |M     |226                   |1           |Intermediário|0    |4         |2022-12-12     |338                 |837                       |0.2            |1009.77     |126.22      |199.35      |41.01       |103.19                |103.19                |291.16                  |97.05                   |199.35               |199.35               |48.18              |48.18              |367.89             |183.94             |Roupas        |5            |103.19                   |103.19                   |103.19                   |103.19                    |103.19                   |103.19                   |103.19                   |103.19                    |null                       |null                       |78.72                      |119.74                      |null                       |null                       |78.72                      |59.87                       |null                    |null                    |null                    |null                     |null                    |null                    |null                    |null                     |null                  |null                  |null                  |null                   |null                  |null                  |null                  |null                   |null                  |178.83                |367.89                |367.89                 |null                  |178.83                |183.94                |183.94                 |1.0                        |1.0                        |1.0                         |1.0                        |1.0                        |1.0                         |null                       |null                       |0.66                        |null                       |null                       |1.31                        |null                       |null                       |null                        |null                       |null                       |null                        |null                       |null                       |null                        |null                       |null                       |null                        |null                       |0.49                       |1.0                         |null                       |0.97                       |1.0                         |202311   |2023-11-15 |\n",
            "|5  |61   |M     |474                   |1           |Avançado     |0    |5         |2022-12-22     |328                 |1064                      |0.32           |1755.18     |117.01      |170.78      |16.25       |292.37                |146.19                |707.41                  |117.9                   |436.01               |109.0                |16.25              |16.25              |303.13             |151.56             |Eletrônicos   |5            |null                     |null                     |null                     |null                      |null                     |null                     |null                     |null                      |282.81                     |282.81                     |282.81                     |282.81                      |141.41                     |141.41                     |141.41                     |141.41                      |null                    |null                    |148.03                  |148.03                   |null                    |null                    |148.03                  |148.03                   |null                  |null                  |null                  |null                   |null                  |null                  |null                  |null                   |150.11                |150.11                |150.11                |150.11                 |150.11                |150.11                |150.11                |150.11                 |null                       |null                       |null                        |null                       |null                       |null                        |1.0                        |1.0                        |1.0                         |1.0                        |1.0                        |1.0                         |null                       |null                       |1.0                         |null                       |null                       |1.0                         |null                       |null                       |null                        |null                       |null                       |null                        |1.0                        |1.0                        |1.0                         |1.0                        |1.0                        |1.0                         |202311   |2023-11-15 |\n",
            "|6  |18   |M     |419                   |0           |Básico       |0    |6         |2022-09-06     |435                 |915                       |0.29           |1841.53     |141.66      |199.29      |8.9         |373.42                |186.71                |202.33                  |101.16                  |395.05               |131.68               |371.56             |185.78             |499.17             |124.79             |Roupas        |5            |null                     |null                     |null                     |null                      |null                     |null                     |null                     |null                      |8.9                        |8.9                        |8.9                        |8.9                         |8.9                        |8.9                        |8.9                        |8.9                         |127.34                  |127.34                  |127.34                  |127.34                   |127.34                  |127.34                  |127.34                  |127.34                   |null                  |null                  |null                  |199.29                 |null                  |null                  |null                  |199.29                 |null                  |null                  |null                  |null                   |null                  |null                  |null                  |null                   |null                       |null                       |null                        |null                       |null                       |null                        |1.0                        |1.0                        |1.0                         |1.0                        |1.0                        |1.0                         |1.0                        |1.0                        |1.0                         |1.0                        |1.0                        |1.0                         |null                       |null                       |null                        |null                       |null                       |null                        |null                       |null                       |null                        |null                       |null                       |null                        |202311   |2023-11-15 |\n",
            "|7  |52   |M     |1334                  |0           |Básico       |0    |7         |2022-09-19     |422                 |975                       |0.37           |1671.35     |98.31       |180.02      |21.47       |270.44                |90.15                 |572.15                  |114.43                  |137.2                |68.6                 |463.88             |92.78              |227.68             |113.84             |Eletrônicos   |5            |null                     |51.54                    |51.54                    |51.54                     |null                     |51.54                    |51.54                    |51.54                     |null                       |null                       |82.49                      |249.04                      |null                       |null                       |82.49                      |124.52                      |97.0                    |137.2                   |137.2                   |137.2                    |97.0                    |68.6                    |68.6                    |68.6                     |null                  |null                  |null                  |92.03                  |null                  |null                  |null                  |92.03                  |103.96                |103.96                |103.96                |103.96                 |103.96                |103.96                |103.96                |103.96                 |null                       |1.0                        |1.0                         |null                       |1.0                        |1.0                         |null                       |null                       |0.33                        |null                       |null                       |0.66                        |0.71                       |1.0                        |1.0                         |1.41                       |1.0                        |1.0                         |null                       |null                       |null                        |null                       |null                       |null                        |1.0                        |1.0                        |1.0                         |1.0                        |1.0                        |1.0                         |202311   |2023-11-15 |\n",
            "|8  |44   |M     |1124                  |1           |Intermediário|0    |8         |2022-09-18     |423                 |901                       |0.2            |841.03      |93.45       |164.54      |22.74       |113.95                |56.97                 |388.75                  |97.19                   |150.17               |150.17               |69.79              |69.79              |118.38             |118.38             |Eletrônicos   |5            |null                     |null                     |113.95                   |113.95                    |null                     |null                     |56.97                    |56.97                     |85.86                      |280.67                     |280.67                     |280.67                      |85.86                      |93.56                      |93.56                      |93.56                       |null                    |null                    |150.17                  |150.17                   |null                    |null                    |150.17                  |150.17                   |null                  |null                  |null                  |null                   |null                  |null                  |null                  |null                   |null                  |null                  |null                  |null                   |null                  |null                  |null                  |null                   |null                       |null                       |1.0                         |null                       |null                       |1.0                         |0.31                       |1.0                        |1.0                         |0.92                       |1.0                        |1.0                         |null                       |null                       |1.0                         |null                       |null                       |1.0                         |null                       |null                       |null                        |null                       |null                       |null                        |null                       |null                       |null                        |null                       |null                       |null                        |202311   |2023-11-15 |\n",
            "|9  |52   |M     |1256                  |1           |Intermediário|0    |9         |2022-08-30     |442                 |925                       |0.24           |1019.13     |92.65       |196.06      |14.62       |172.42                |43.11                 |0.0                     |null                    |286.48               |95.49                |330.45             |165.23             |229.77             |114.88             |Livros        |4            |51.77                    |51.77                    |87.28                    |87.28                     |51.77                    |51.77                    |43.64                    |43.64                     |null                       |null                       |null                       |null                        |null                       |null                       |null                       |null                        |null                    |null                    |null                    |null                     |null                    |null                    |null                    |null                     |330.45                |330.45                |330.45                |330.45                 |165.23                |165.23                |165.23                |165.23                 |null                  |null                  |null                  |null                   |null                  |null                  |null                  |null                   |1.0                        |0.59                       |1.0                         |1.0                        |1.19                       |1.0                         |null                       |null                       |null                        |null                       |null                       |null                        |null                       |null                       |null                        |null                       |null                       |null                        |1.0                        |1.0                        |1.0                         |1.0                        |1.0                        |1.0                         |null                       |null                       |null                        |null                       |null                       |null                        |202311   |2023-11-15 |\n",
            "|10 |64   |F     |1197                  |0           |Básico       |0    |10        |2022-10-01     |410                 |799                       |0.1            |416.41      |104.1       |185.66      |15.92       |185.66                |185.66                |144.9                   |144.9                   |0.0                  |null                 |15.92              |15.92              |69.93              |69.93              |Alimentos     |4            |null                     |null                     |null                     |185.66                    |null                     |null                     |null                     |185.66                    |144.9                      |144.9                      |144.9                      |144.9                       |144.9                      |144.9                      |144.9                      |144.9                       |null                    |null                    |null                    |null                     |null                    |null                    |null                    |null                     |null                  |null                  |null                  |null                   |null                  |null                  |null                  |null                   |null                  |null                  |null                  |null                   |null                  |null                  |null                  |null                   |null                       |null                       |null                        |null                       |null                       |null                        |1.0                        |1.0                        |1.0                         |1.0                        |1.0                        |1.0                         |null                       |null                       |null                        |null                       |null                       |null                        |null                       |null                       |null                        |null                       |null                       |null                        |null                       |null                       |null                        |null                       |null                       |null                        |202311   |2023-11-15 |\n",
            "+---+-----+------+----------------------+------------+-------------+-----+----------+---------------+--------------------+--------------------------+---------------+------------+------------+------------+------------+----------------------+----------------------+------------------------+------------------------+---------------------+---------------------+-------------------+-------------------+-------------------+-------------------+--------------+-------------+-------------------------+-------------------------+-------------------------+--------------------------+-------------------------+-------------------------+-------------------------+--------------------------+---------------------------+---------------------------+---------------------------+----------------------------+---------------------------+---------------------------+---------------------------+----------------------------+------------------------+------------------------+------------------------+-------------------------+------------------------+------------------------+------------------------+-------------------------+----------------------+----------------------+----------------------+-----------------------+----------------------+----------------------+----------------------+-----------------------+----------------------+----------------------+----------------------+-----------------------+----------------------+----------------------+----------------------+-----------------------+---------------------------+---------------------------+----------------------------+---------------------------+---------------------------+----------------------------+---------------------------+---------------------------+----------------------------+---------------------------+---------------------------+----------------------------+---------------------------+---------------------------+----------------------------+---------------------------+---------------------------+----------------------------+---------------------------+---------------------------+----------------------------+---------------------------+---------------------------+----------------------------+---------------------------+---------------------------+----------------------------+---------------------------+---------------------------+----------------------------+---------+-----------+\n",
            "only showing top 10 rows\n",
            "\n"
          ]
        }
      ]
    },
    {
      "cell_type": "markdown",
      "source": [
        "**Renomeando campos com nomes fora do padrão.**\n",
        "- Retirar espaços.\n",
        "- Retirar caracteres especiais.\n",
        "- Retirar qualquer coisa \"estranha\".\n",
        "- Padronizar os nomes das features para que fiquem intuitivos."
      ],
      "metadata": {
        "id": "jD1442qqxhLW"
      }
    },
    {
      "cell_type": "code",
      "source": [
        "# Dicionário de renomeação.\n",
        "rename_dict = {\n",
        "    'ID': 'ID_CLIENTE',\n",
        "    'Idade': 'IDADE',\n",
        "    'Gênero': 'NM_GENERO',\n",
        "    'Dias desde a Inscrição': 'QT_DIAS_DESDE_INSCR',\n",
        "    'Usou Suporte': 'FL_USOU_SUPORTE',\n",
        "    'Plano': 'PLANO',\n",
        "    'Churn': 'CHURN',\n",
        "}\n",
        "\n",
        "# Aplicando renomeações com SPARK puro.\n",
        "for old_name, new_name in rename_dict.items():\n",
        "    abt_temp_01 = abt_temp_01.withColumnRenamed(old_name, new_name)"
      ],
      "metadata": {
        "id": "9OM1WMK8lqJS"
      },
      "execution_count": 86,
      "outputs": []
    },
    {
      "cell_type": "code",
      "source": [
        "abt_temp_01.show(10, False)"
      ],
      "metadata": {
        "colab": {
          "base_uri": "https://localhost:8080/"
        },
        "id": "Cb6c1wWbUxE4",
        "outputId": "f8e658d2-6bed-4380-e082-089fc8d4edda"
      },
      "execution_count": 87,
      "outputs": [
        {
          "output_type": "stream",
          "name": "stdout",
          "text": [
            "+----------+-----+---------+-------------------+---------------+-------------+-----+----------+---------------+--------------------+--------------------------+---------------+------------+------------+------------+------------+----------------------+----------------------+------------------------+------------------------+---------------------+---------------------+-------------------+-------------------+-------------------+-------------------+--------------+-------------+-------------------------+-------------------------+-------------------------+--------------------------+-------------------------+-------------------------+-------------------------+--------------------------+---------------------------+---------------------------+---------------------------+----------------------------+---------------------------+---------------------------+---------------------------+----------------------------+------------------------+------------------------+------------------------+-------------------------+------------------------+------------------------+------------------------+-------------------------+----------------------+----------------------+----------------------+-----------------------+----------------------+----------------------+----------------------+-----------------------+----------------------+----------------------+----------------------+-----------------------+----------------------+----------------------+----------------------+-----------------------+---------------------------+---------------------------+----------------------------+---------------------------+---------------------------+----------------------------+---------------------------+---------------------------+----------------------------+---------------------------+---------------------------+----------------------------+---------------------------+---------------------------+----------------------------+---------------------------+---------------------------+----------------------------+---------------------------+---------------------------+----------------------------+---------------------------+---------------------------+----------------------------+---------------------------+---------------------------+----------------------------+---------------------------+---------------------------+----------------------------+---------+-----------+\n",
            "|ID_CLIENTE|IDADE|NM_GENERO|QT_DIAS_DESDE_INSCR|FL_USOU_SUPORTE|PLANO        |CHURN|ID Cliente|UTL_DATA_COMPRA|DIAS_DESDE_ULT_TRANS|QTD_DIAS_DESDE_PRIM_COMPRA|QTD_COMPRAS_MES|VL_TOT_GASTO|VL_MED_GASTO|VL_MAX_GASTO|VL_MIN_GASTO|VL_TOT_GASTO_ALIMENTOS|VL_MED_GASTO_ALIMENTOS|VL_TOT_GASTO_ELETRONICOS|VL_MED_GASTO_ELETRONICOS|VL_TOT_GASTO_ESPORTES|VL_MED_GASTO_ESPORTES|VL_TOT_GASTO_LIVROS|VL_MED_GASTO_LIVROS|VL_TOT_GASTO_ROUPAS|VL_MED_GASTO_ROUPAS|CATEG_FAVORITA|QTD_CATEG_DIF|VL_TOT_U3M_CONS_ALIMENTOS|VL_TOT_U6M_CONS_ALIMENTOS|VL_TOT_U9M_CONS_ALIMENTOS|VL_TOT_U12M_CONS_ALIMENTOS|VL_MED_U3M_CONS_ALIMENTOS|VL_MED_U6M_CONS_ALIMENTOS|VL_MED_U9M_CONS_ALIMENTOS|VL_MED_U12M_CONS_ALIMENTOS|VL_TOT_U3M_CONS_ELETRONICOS|VL_TOT_U6M_CONS_ELETRONICOS|VL_TOT_U9M_CONS_ELETRONICOS|VL_TOT_U12M_CONS_ELETRONICOS|VL_MED_U3M_CONS_ELETRONICOS|VL_MED_U6M_CONS_ELETRONICOS|VL_MED_U9M_CONS_ELETRONICOS|VL_MED_U12M_CONS_ELETRONICOS|VL_TOT_U3M_CONS_ESPORTES|VL_TOT_U6M_CONS_ESPORTES|VL_TOT_U9M_CONS_ESPORTES|VL_TOT_U12M_CONS_ESPORTES|VL_MED_U3M_CONS_ESPORTES|VL_MED_U6M_CONS_ESPORTES|VL_MED_U9M_CONS_ESPORTES|VL_MED_U12M_CONS_ESPORTES|VL_TOT_U3M_CONS_LIVROS|VL_TOT_U6M_CONS_LIVROS|VL_TOT_U9M_CONS_LIVROS|VL_TOT_U12M_CONS_LIVROS|VL_MED_U3M_CONS_LIVROS|VL_MED_U6M_CONS_LIVROS|VL_MED_U9M_CONS_LIVROS|VL_MED_U12M_CONS_LIVROS|VL_TOT_U3M_CONS_ROUPAS|VL_TOT_U6M_CONS_ROUPAS|VL_TOT_U9M_CONS_ROUPAS|VL_TOT_U12M_CONS_ROUPAS|VL_MED_U3M_CONS_ROUPAS|VL_MED_U6M_CONS_ROUPAS|VL_MED_U9M_CONS_ROUPAS|VL_MED_U12M_CONS_ROUPAS|VL_RAZ_TOT_U3M_U6M_CONS_ALI|VL_RAZ_TOT_U6M_U9M_CONS_ALI|VL_RAZ_TOT_U9M_U12M_CONS_ALI|VL_RAZ_MED_U3M_U6M_CONS_ALI|VL_RAZ_MED_U6M_U9M_CONS_ALI|VL_RAZ_MED_U9M_U12M_CONS_ALI|VL_RAZ_TOT_U3M_U6M_CONS_ELE|VL_RAZ_TOT_U6M_U9M_CONS_ELE|VL_RAZ_TOT_U9M_U12M_CONS_ELE|VL_RAZ_MED_U3M_U6M_CONS_ELE|VL_RAZ_MED_U6M_U9M_CONS_ELE|VL_RAZ_MED_U9M_U12M_CONS_ELE|VL_RAZ_TOT_U3M_U6M_CONS_ESP|VL_RAZ_TOT_U6M_U9M_CONS_ESP|VL_RAZ_TOT_U9M_U12M_CONS_ESP|VL_RAZ_MED_U3M_U6M_CONS_ESP|VL_RAZ_MED_U6M_U9M_CONS_ESP|VL_RAZ_MED_U9M_U12M_CONS_ESP|VL_RAZ_TOT_U3M_U6M_CONS_LIV|VL_RAZ_TOT_U6M_U9M_CONS_LIV|VL_RAZ_TOT_U9M_U12M_CONS_LIV|VL_RAZ_MED_U3M_U6M_CONS_LIV|VL_RAZ_MED_U6M_U9M_CONS_LIV|VL_RAZ_MED_U9M_U12M_CONS_LIV|VL_RAZ_TOT_U3M_U6M_CONS_ROU|VL_RAZ_TOT_U6M_U9M_CONS_ROU|VL_RAZ_TOT_U9M_U12M_CONS_ROU|VL_RAZ_MED_U3M_U6M_CONS_ROU|VL_RAZ_MED_U6M_U9M_CONS_ROU|VL_RAZ_MED_U9M_U12M_CONS_ROU|PK_DATREF|PK_DAT_PROC|\n",
            "+----------+-----+---------+-------------------+---------------+-------------+-----+----------+---------------+--------------------+--------------------------+---------------+------------+------------+------------+------------+----------------------+----------------------+------------------------+------------------------+---------------------+---------------------+-------------------+-------------------+-------------------+-------------------+--------------+-------------+-------------------------+-------------------------+-------------------------+--------------------------+-------------------------+-------------------------+-------------------------+--------------------------+---------------------------+---------------------------+---------------------------+----------------------------+---------------------------+---------------------------+---------------------------+----------------------------+------------------------+------------------------+------------------------+-------------------------+------------------------+------------------------+------------------------+-------------------------+----------------------+----------------------+----------------------+-----------------------+----------------------+----------------------+----------------------+-----------------------+----------------------+----------------------+----------------------+-----------------------+----------------------+----------------------+----------------------+-----------------------+---------------------------+---------------------------+----------------------------+---------------------------+---------------------------+----------------------------+---------------------------+---------------------------+----------------------------+---------------------------+---------------------------+----------------------------+---------------------------+---------------------------+----------------------------+---------------------------+---------------------------+----------------------------+---------------------------+---------------------------+----------------------------+---------------------------+---------------------------+----------------------------+---------------------------+---------------------------+----------------------------+---------------------------+---------------------------+----------------------------+---------+-----------+\n",
            "|1         |21   |F        |1331               |1              |Intermediário|1    |1         |2022-12-18     |332                 |1064                      |0.37           |1976.56     |116.27      |199.39      |5.39        |351.26                |87.81                 |396.72                  |132.24                  |226.73               |113.37               |551.06             |183.69             |450.79             |90.16              |Livros        |5            |null                     |187.82                   |187.82                   |187.82                    |null                     |187.82                   |187.82                   |187.82                    |236.91                     |236.91                     |396.72                     |396.72                      |118.45                     |118.45                     |132.24                     |132.24                      |57.29                   |57.29                   |57.29                   |57.29                    |57.29                   |57.29                   |57.29                   |57.29                    |193.01                |193.01                |193.01                |551.06                 |193.01                |193.01                |193.01                |183.69                 |192.81                |198.2                 |198.2                 |397.59                 |96.4                  |66.07                 |66.07                 |99.4                   |null                       |1.0                        |1.0                         |null                       |1.0                        |1.0                         |1.0                        |0.6                        |1.0                         |1.0                        |0.9                        |1.0                         |1.0                        |1.0                        |1.0                         |1.0                        |1.0                        |1.0                         |1.0                        |1.0                        |0.35                        |1.0                        |1.0                        |1.05                        |0.97                       |1.0                        |0.5                         |1.46                       |1.0                        |0.66                        |202311   |2023-11-15 |\n",
            "|2         |21   |M        |1160               |0              |Intermediário|0    |2         |2021-12-07     |708                 |701                       |0.21           |1017.8      |101.78      |192.63      |47.58       |109.58                |54.79                 |292.16                  |97.39                   |275.47               |91.82                |340.59             |170.29             |0.0                |null               |Livros        |4            |47.58                    |109.58                   |109.58                   |109.58                    |47.58                    |54.79                    |54.79                    |54.79                     |null                       |69.05                      |69.05                      |69.05                       |null                       |69.05                      |69.05                      |69.05                       |57.35                   |57.35                   |169.25                  |169.25                   |57.35                   |57.35                   |84.62                   |84.62                    |null                  |null                  |null                  |null                   |null                  |null                  |null                  |null                   |null                  |null                  |null                  |null                   |null                  |null                  |null                  |null                   |0.43                       |1.0                        |1.0                         |0.87                       |1.0                        |1.0                         |null                       |1.0                        |1.0                         |null                       |1.0                        |1.0                         |1.0                        |0.34                       |1.0                         |1.0                        |0.68                       |1.0                         |null                       |null                       |null                        |null                       |null                       |null                        |null                       |null                       |null                        |null                       |null                       |null                        |202311   |2023-11-15 |\n",
            "|3         |62   |M        |454                |1              |Básico       |0    |3         |2022-11-21     |359                 |1033                      |0.19           |997.81      |110.87      |191.09      |41.91       |247.52                |123.76                |317.38                  |105.79                  |327.09               |163.55               |105.81             |52.91              |0.0                |null               |Esportes      |4            |null                     |null                     |null                     |null                      |null                     |null                     |null                     |null                      |97.44                      |97.44                      |270.6                      |317.38                      |97.44                      |97.44                      |135.3                      |105.79                      |164.27                  |164.27                  |164.27                  |164.27                   |164.27                  |164.27                  |164.27                  |164.27                   |null                  |null                  |null                  |null                   |null                  |null                  |null                  |null                   |null                  |null                  |null                  |null                   |null                  |null                  |null                  |null                   |null                       |null                       |null                        |null                       |null                       |null                        |1.0                        |0.36                       |0.85                        |1.0                        |0.72                       |1.28                        |1.0                        |1.0                        |1.0                         |1.0                        |1.0                        |1.0                         |null                       |null                       |null                        |null                       |null                       |null                        |null                       |null                       |null                        |null                       |null                       |null                        |202311   |2023-11-15 |\n",
            "|4         |64   |M        |226                |1              |Intermediário|0    |4         |2022-12-12     |338                 |837                       |0.2            |1009.77     |126.22      |199.35      |41.01       |103.19                |103.19                |291.16                  |97.05                   |199.35               |199.35               |48.18              |48.18              |367.89             |183.94             |Roupas        |5            |103.19                   |103.19                   |103.19                   |103.19                    |103.19                   |103.19                   |103.19                   |103.19                    |null                       |null                       |78.72                      |119.74                      |null                       |null                       |78.72                      |59.87                       |null                    |null                    |null                    |null                     |null                    |null                    |null                    |null                     |null                  |null                  |null                  |null                   |null                  |null                  |null                  |null                   |null                  |178.83                |367.89                |367.89                 |null                  |178.83                |183.94                |183.94                 |1.0                        |1.0                        |1.0                         |1.0                        |1.0                        |1.0                         |null                       |null                       |0.66                        |null                       |null                       |1.31                        |null                       |null                       |null                        |null                       |null                       |null                        |null                       |null                       |null                        |null                       |null                       |null                        |null                       |0.49                       |1.0                         |null                       |0.97                       |1.0                         |202311   |2023-11-15 |\n",
            "|5         |61   |M        |474                |1              |Avançado     |0    |5         |2022-12-22     |328                 |1064                      |0.32           |1755.18     |117.01      |170.78      |16.25       |292.37                |146.19                |707.41                  |117.9                   |436.01               |109.0                |16.25              |16.25              |303.13             |151.56             |Eletrônicos   |5            |null                     |null                     |null                     |null                      |null                     |null                     |null                     |null                      |282.81                     |282.81                     |282.81                     |282.81                      |141.41                     |141.41                     |141.41                     |141.41                      |null                    |null                    |148.03                  |148.03                   |null                    |null                    |148.03                  |148.03                   |null                  |null                  |null                  |null                   |null                  |null                  |null                  |null                   |150.11                |150.11                |150.11                |150.11                 |150.11                |150.11                |150.11                |150.11                 |null                       |null                       |null                        |null                       |null                       |null                        |1.0                        |1.0                        |1.0                         |1.0                        |1.0                        |1.0                         |null                       |null                       |1.0                         |null                       |null                       |1.0                         |null                       |null                       |null                        |null                       |null                       |null                        |1.0                        |1.0                        |1.0                         |1.0                        |1.0                        |1.0                         |202311   |2023-11-15 |\n",
            "|6         |18   |M        |419                |0              |Básico       |0    |6         |2022-09-06     |435                 |915                       |0.29           |1841.53     |141.66      |199.29      |8.9         |373.42                |186.71                |202.33                  |101.16                  |395.05               |131.68               |371.56             |185.78             |499.17             |124.79             |Roupas        |5            |null                     |null                     |null                     |null                      |null                     |null                     |null                     |null                      |8.9                        |8.9                        |8.9                        |8.9                         |8.9                        |8.9                        |8.9                        |8.9                         |127.34                  |127.34                  |127.34                  |127.34                   |127.34                  |127.34                  |127.34                  |127.34                   |null                  |null                  |null                  |199.29                 |null                  |null                  |null                  |199.29                 |null                  |null                  |null                  |null                   |null                  |null                  |null                  |null                   |null                       |null                       |null                        |null                       |null                       |null                        |1.0                        |1.0                        |1.0                         |1.0                        |1.0                        |1.0                         |1.0                        |1.0                        |1.0                         |1.0                        |1.0                        |1.0                         |null                       |null                       |null                        |null                       |null                       |null                        |null                       |null                       |null                        |null                       |null                       |null                        |202311   |2023-11-15 |\n",
            "|7         |52   |M        |1334               |0              |Básico       |0    |7         |2022-09-19     |422                 |975                       |0.37           |1671.35     |98.31       |180.02      |21.47       |270.44                |90.15                 |572.15                  |114.43                  |137.2                |68.6                 |463.88             |92.78              |227.68             |113.84             |Eletrônicos   |5            |null                     |51.54                    |51.54                    |51.54                     |null                     |51.54                    |51.54                    |51.54                     |null                       |null                       |82.49                      |249.04                      |null                       |null                       |82.49                      |124.52                      |97.0                    |137.2                   |137.2                   |137.2                    |97.0                    |68.6                    |68.6                    |68.6                     |null                  |null                  |null                  |92.03                  |null                  |null                  |null                  |92.03                  |103.96                |103.96                |103.96                |103.96                 |103.96                |103.96                |103.96                |103.96                 |null                       |1.0                        |1.0                         |null                       |1.0                        |1.0                         |null                       |null                       |0.33                        |null                       |null                       |0.66                        |0.71                       |1.0                        |1.0                         |1.41                       |1.0                        |1.0                         |null                       |null                       |null                        |null                       |null                       |null                        |1.0                        |1.0                        |1.0                         |1.0                        |1.0                        |1.0                         |202311   |2023-11-15 |\n",
            "|8         |44   |M        |1124               |1              |Intermediário|0    |8         |2022-09-18     |423                 |901                       |0.2            |841.03      |93.45       |164.54      |22.74       |113.95                |56.97                 |388.75                  |97.19                   |150.17               |150.17               |69.79              |69.79              |118.38             |118.38             |Eletrônicos   |5            |null                     |null                     |113.95                   |113.95                    |null                     |null                     |56.97                    |56.97                     |85.86                      |280.67                     |280.67                     |280.67                      |85.86                      |93.56                      |93.56                      |93.56                       |null                    |null                    |150.17                  |150.17                   |null                    |null                    |150.17                  |150.17                   |null                  |null                  |null                  |null                   |null                  |null                  |null                  |null                   |null                  |null                  |null                  |null                   |null                  |null                  |null                  |null                   |null                       |null                       |1.0                         |null                       |null                       |1.0                         |0.31                       |1.0                        |1.0                         |0.92                       |1.0                        |1.0                         |null                       |null                       |1.0                         |null                       |null                       |1.0                         |null                       |null                       |null                        |null                       |null                       |null                        |null                       |null                       |null                        |null                       |null                       |null                        |202311   |2023-11-15 |\n",
            "|9         |52   |M        |1256               |1              |Intermediário|0    |9         |2022-08-30     |442                 |925                       |0.24           |1019.13     |92.65       |196.06      |14.62       |172.42                |43.11                 |0.0                     |null                    |286.48               |95.49                |330.45             |165.23             |229.77             |114.88             |Livros        |4            |51.77                    |51.77                    |87.28                    |87.28                     |51.77                    |51.77                    |43.64                    |43.64                     |null                       |null                       |null                       |null                        |null                       |null                       |null                       |null                        |null                    |null                    |null                    |null                     |null                    |null                    |null                    |null                     |330.45                |330.45                |330.45                |330.45                 |165.23                |165.23                |165.23                |165.23                 |null                  |null                  |null                  |null                   |null                  |null                  |null                  |null                   |1.0                        |0.59                       |1.0                         |1.0                        |1.19                       |1.0                         |null                       |null                       |null                        |null                       |null                       |null                        |null                       |null                       |null                        |null                       |null                       |null                        |1.0                        |1.0                        |1.0                         |1.0                        |1.0                        |1.0                         |null                       |null                       |null                        |null                       |null                       |null                        |202311   |2023-11-15 |\n",
            "|10        |64   |F        |1197               |0              |Básico       |0    |10        |2022-10-01     |410                 |799                       |0.1            |416.41      |104.1       |185.66      |15.92       |185.66                |185.66                |144.9                   |144.9                   |0.0                  |null                 |15.92              |15.92              |69.93              |69.93              |Alimentos     |4            |null                     |null                     |null                     |185.66                    |null                     |null                     |null                     |185.66                    |144.9                      |144.9                      |144.9                      |144.9                       |144.9                      |144.9                      |144.9                      |144.9                       |null                    |null                    |null                    |null                     |null                    |null                    |null                    |null                     |null                  |null                  |null                  |null                   |null                  |null                  |null                  |null                   |null                  |null                  |null                  |null                   |null                  |null                  |null                  |null                   |null                       |null                       |null                        |null                       |null                       |null                        |1.0                        |1.0                        |1.0                         |1.0                        |1.0                        |1.0                         |null                       |null                       |null                        |null                       |null                       |null                        |null                       |null                       |null                        |null                       |null                       |null                        |null                       |null                       |null                        |null                       |null                       |null                        |202311   |2023-11-15 |\n",
            "+----------+-----+---------+-------------------+---------------+-------------+-----+----------+---------------+--------------------+--------------------------+---------------+------------+------------+------------+------------+----------------------+----------------------+------------------------+------------------------+---------------------+---------------------+-------------------+-------------------+-------------------+-------------------+--------------+-------------+-------------------------+-------------------------+-------------------------+--------------------------+-------------------------+-------------------------+-------------------------+--------------------------+---------------------------+---------------------------+---------------------------+----------------------------+---------------------------+---------------------------+---------------------------+----------------------------+------------------------+------------------------+------------------------+-------------------------+------------------------+------------------------+------------------------+-------------------------+----------------------+----------------------+----------------------+-----------------------+----------------------+----------------------+----------------------+-----------------------+----------------------+----------------------+----------------------+-----------------------+----------------------+----------------------+----------------------+-----------------------+---------------------------+---------------------------+----------------------------+---------------------------+---------------------------+----------------------------+---------------------------+---------------------------+----------------------------+---------------------------+---------------------------+----------------------------+---------------------------+---------------------------+----------------------------+---------------------------+---------------------------+----------------------------+---------------------------+---------------------------+----------------------------+---------------------------+---------------------------+----------------------------+---------------------------+---------------------------+----------------------------+---------------------------+---------------------------+----------------------------+---------+-----------+\n",
            "only showing top 10 rows\n",
            "\n"
          ]
        }
      ]
    },
    {
      "cell_type": "markdown",
      "source": [
        "**Dropando a coluna ID Cliente porque ela já está sendo representada por ID_CLIENTE.**"
      ],
      "metadata": {
        "id": "O5JeEqFSU7V-"
      }
    },
    {
      "cell_type": "code",
      "source": [
        "# Descartando a coluna \"ID Cliente\".\n",
        "abt_churn = abt_temp_01.drop('ID Cliente')\n",
        "abt_churn.count()"
      ],
      "metadata": {
        "colab": {
          "base_uri": "https://localhost:8080/"
        },
        "id": "Qrx0UE5xUxfc",
        "outputId": "a9b27360-31a0-46a7-dfb2-b996a327cd31"
      },
      "execution_count": 88,
      "outputs": [
        {
          "output_type": "execute_result",
          "data": {
            "text/plain": [
              "1000"
            ]
          },
          "metadata": {},
          "execution_count": 88
        }
      ]
    },
    {
      "cell_type": "code",
      "source": [
        "abt_churn.show()"
      ],
      "metadata": {
        "colab": {
          "base_uri": "https://localhost:8080/"
        },
        "id": "MggITobzVWxJ",
        "outputId": "190eaa28-ea98-41e9-a863-28c1bb026cf1"
      },
      "execution_count": 89,
      "outputs": [
        {
          "output_type": "stream",
          "name": "stdout",
          "text": [
            "+----------+-----+---------+-------------------+---------------+-------------+-----+---------------+--------------------+--------------------------+---------------+------------+------------+------------+------------+----------------------+----------------------+------------------------+------------------------+---------------------+---------------------+-------------------+-------------------+-------------------+-------------------+--------------+-------------+-------------------------+-------------------------+-------------------------+--------------------------+-------------------------+-------------------------+-------------------------+--------------------------+---------------------------+---------------------------+---------------------------+----------------------------+---------------------------+---------------------------+---------------------------+----------------------------+------------------------+------------------------+------------------------+-------------------------+------------------------+------------------------+------------------------+-------------------------+----------------------+----------------------+----------------------+-----------------------+----------------------+----------------------+----------------------+-----------------------+----------------------+----------------------+----------------------+-----------------------+----------------------+----------------------+----------------------+-----------------------+---------------------------+---------------------------+----------------------------+---------------------------+---------------------------+----------------------------+---------------------------+---------------------------+----------------------------+---------------------------+---------------------------+----------------------------+---------------------------+---------------------------+----------------------------+---------------------------+---------------------------+----------------------------+---------------------------+---------------------------+----------------------------+---------------------------+---------------------------+----------------------------+---------------------------+---------------------------+----------------------------+---------------------------+---------------------------+----------------------------+---------+-----------+\n",
            "|ID_CLIENTE|IDADE|NM_GENERO|QT_DIAS_DESDE_INSCR|FL_USOU_SUPORTE|        PLANO|CHURN|UTL_DATA_COMPRA|DIAS_DESDE_ULT_TRANS|QTD_DIAS_DESDE_PRIM_COMPRA|QTD_COMPRAS_MES|VL_TOT_GASTO|VL_MED_GASTO|VL_MAX_GASTO|VL_MIN_GASTO|VL_TOT_GASTO_ALIMENTOS|VL_MED_GASTO_ALIMENTOS|VL_TOT_GASTO_ELETRONICOS|VL_MED_GASTO_ELETRONICOS|VL_TOT_GASTO_ESPORTES|VL_MED_GASTO_ESPORTES|VL_TOT_GASTO_LIVROS|VL_MED_GASTO_LIVROS|VL_TOT_GASTO_ROUPAS|VL_MED_GASTO_ROUPAS|CATEG_FAVORITA|QTD_CATEG_DIF|VL_TOT_U3M_CONS_ALIMENTOS|VL_TOT_U6M_CONS_ALIMENTOS|VL_TOT_U9M_CONS_ALIMENTOS|VL_TOT_U12M_CONS_ALIMENTOS|VL_MED_U3M_CONS_ALIMENTOS|VL_MED_U6M_CONS_ALIMENTOS|VL_MED_U9M_CONS_ALIMENTOS|VL_MED_U12M_CONS_ALIMENTOS|VL_TOT_U3M_CONS_ELETRONICOS|VL_TOT_U6M_CONS_ELETRONICOS|VL_TOT_U9M_CONS_ELETRONICOS|VL_TOT_U12M_CONS_ELETRONICOS|VL_MED_U3M_CONS_ELETRONICOS|VL_MED_U6M_CONS_ELETRONICOS|VL_MED_U9M_CONS_ELETRONICOS|VL_MED_U12M_CONS_ELETRONICOS|VL_TOT_U3M_CONS_ESPORTES|VL_TOT_U6M_CONS_ESPORTES|VL_TOT_U9M_CONS_ESPORTES|VL_TOT_U12M_CONS_ESPORTES|VL_MED_U3M_CONS_ESPORTES|VL_MED_U6M_CONS_ESPORTES|VL_MED_U9M_CONS_ESPORTES|VL_MED_U12M_CONS_ESPORTES|VL_TOT_U3M_CONS_LIVROS|VL_TOT_U6M_CONS_LIVROS|VL_TOT_U9M_CONS_LIVROS|VL_TOT_U12M_CONS_LIVROS|VL_MED_U3M_CONS_LIVROS|VL_MED_U6M_CONS_LIVROS|VL_MED_U9M_CONS_LIVROS|VL_MED_U12M_CONS_LIVROS|VL_TOT_U3M_CONS_ROUPAS|VL_TOT_U6M_CONS_ROUPAS|VL_TOT_U9M_CONS_ROUPAS|VL_TOT_U12M_CONS_ROUPAS|VL_MED_U3M_CONS_ROUPAS|VL_MED_U6M_CONS_ROUPAS|VL_MED_U9M_CONS_ROUPAS|VL_MED_U12M_CONS_ROUPAS|VL_RAZ_TOT_U3M_U6M_CONS_ALI|VL_RAZ_TOT_U6M_U9M_CONS_ALI|VL_RAZ_TOT_U9M_U12M_CONS_ALI|VL_RAZ_MED_U3M_U6M_CONS_ALI|VL_RAZ_MED_U6M_U9M_CONS_ALI|VL_RAZ_MED_U9M_U12M_CONS_ALI|VL_RAZ_TOT_U3M_U6M_CONS_ELE|VL_RAZ_TOT_U6M_U9M_CONS_ELE|VL_RAZ_TOT_U9M_U12M_CONS_ELE|VL_RAZ_MED_U3M_U6M_CONS_ELE|VL_RAZ_MED_U6M_U9M_CONS_ELE|VL_RAZ_MED_U9M_U12M_CONS_ELE|VL_RAZ_TOT_U3M_U6M_CONS_ESP|VL_RAZ_TOT_U6M_U9M_CONS_ESP|VL_RAZ_TOT_U9M_U12M_CONS_ESP|VL_RAZ_MED_U3M_U6M_CONS_ESP|VL_RAZ_MED_U6M_U9M_CONS_ESP|VL_RAZ_MED_U9M_U12M_CONS_ESP|VL_RAZ_TOT_U3M_U6M_CONS_LIV|VL_RAZ_TOT_U6M_U9M_CONS_LIV|VL_RAZ_TOT_U9M_U12M_CONS_LIV|VL_RAZ_MED_U3M_U6M_CONS_LIV|VL_RAZ_MED_U6M_U9M_CONS_LIV|VL_RAZ_MED_U9M_U12M_CONS_LIV|VL_RAZ_TOT_U3M_U6M_CONS_ROU|VL_RAZ_TOT_U6M_U9M_CONS_ROU|VL_RAZ_TOT_U9M_U12M_CONS_ROU|VL_RAZ_MED_U3M_U6M_CONS_ROU|VL_RAZ_MED_U6M_U9M_CONS_ROU|VL_RAZ_MED_U9M_U12M_CONS_ROU|PK_DATREF|PK_DAT_PROC|\n",
            "+----------+-----+---------+-------------------+---------------+-------------+-----+---------------+--------------------+--------------------------+---------------+------------+------------+------------+------------+----------------------+----------------------+------------------------+------------------------+---------------------+---------------------+-------------------+-------------------+-------------------+-------------------+--------------+-------------+-------------------------+-------------------------+-------------------------+--------------------------+-------------------------+-------------------------+-------------------------+--------------------------+---------------------------+---------------------------+---------------------------+----------------------------+---------------------------+---------------------------+---------------------------+----------------------------+------------------------+------------------------+------------------------+-------------------------+------------------------+------------------------+------------------------+-------------------------+----------------------+----------------------+----------------------+-----------------------+----------------------+----------------------+----------------------+-----------------------+----------------------+----------------------+----------------------+-----------------------+----------------------+----------------------+----------------------+-----------------------+---------------------------+---------------------------+----------------------------+---------------------------+---------------------------+----------------------------+---------------------------+---------------------------+----------------------------+---------------------------+---------------------------+----------------------------+---------------------------+---------------------------+----------------------------+---------------------------+---------------------------+----------------------------+---------------------------+---------------------------+----------------------------+---------------------------+---------------------------+----------------------------+---------------------------+---------------------------+----------------------------+---------------------------+---------------------------+----------------------------+---------+-----------+\n",
            "|         1|   21|        F|               1331|              1|Intermediário|    1|     2022-12-18|                 332|                      1064|           0.37|     1976.56|      116.27|      199.39|        5.39|                351.26|                 87.81|                  396.72|                  132.24|               226.73|               113.37|             551.06|             183.69|             450.79|              90.16|        Livros|            5|                     null|                   187.82|                   187.82|                    187.82|                     null|                   187.82|                   187.82|                    187.82|                     236.91|                     236.91|                     396.72|                      396.72|                     118.45|                     118.45|                     132.24|                      132.24|                   57.29|                   57.29|                   57.29|                    57.29|                   57.29|                   57.29|                   57.29|                    57.29|                193.01|                193.01|                193.01|                 551.06|                193.01|                193.01|                193.01|                 183.69|                192.81|                 198.2|                 198.2|                 397.59|                  96.4|                 66.07|                 66.07|                   99.4|                       null|                        1.0|                         1.0|                       null|                        1.0|                         1.0|                        1.0|                        0.6|                         1.0|                        1.0|                        0.9|                         1.0|                        1.0|                        1.0|                         1.0|                        1.0|                        1.0|                         1.0|                        1.0|                        1.0|                        0.35|                        1.0|                        1.0|                        1.05|                       0.97|                        1.0|                         0.5|                       1.46|                        1.0|                        0.66|   202311| 2023-11-15|\n",
            "|         2|   21|        M|               1160|              0|Intermediário|    0|     2021-12-07|                 708|                       701|           0.21|      1017.8|      101.78|      192.63|       47.58|                109.58|                 54.79|                  292.16|                   97.39|               275.47|                91.82|             340.59|             170.29|                0.0|               null|        Livros|            4|                    47.58|                   109.58|                   109.58|                    109.58|                    47.58|                    54.79|                    54.79|                     54.79|                       null|                      69.05|                      69.05|                       69.05|                       null|                      69.05|                      69.05|                       69.05|                   57.35|                   57.35|                  169.25|                   169.25|                   57.35|                   57.35|                   84.62|                    84.62|                  null|                  null|                  null|                   null|                  null|                  null|                  null|                   null|                  null|                  null|                  null|                   null|                  null|                  null|                  null|                   null|                       0.43|                        1.0|                         1.0|                       0.87|                        1.0|                         1.0|                       null|                        1.0|                         1.0|                       null|                        1.0|                         1.0|                        1.0|                       0.34|                         1.0|                        1.0|                       0.68|                         1.0|                       null|                       null|                        null|                       null|                       null|                        null|                       null|                       null|                        null|                       null|                       null|                        null|   202311| 2023-11-15|\n",
            "|         3|   62|        M|                454|              1|       Básico|    0|     2022-11-21|                 359|                      1033|           0.19|      997.81|      110.87|      191.09|       41.91|                247.52|                123.76|                  317.38|                  105.79|               327.09|               163.55|             105.81|              52.91|                0.0|               null|      Esportes|            4|                     null|                     null|                     null|                      null|                     null|                     null|                     null|                      null|                      97.44|                      97.44|                      270.6|                      317.38|                      97.44|                      97.44|                      135.3|                      105.79|                  164.27|                  164.27|                  164.27|                   164.27|                  164.27|                  164.27|                  164.27|                   164.27|                  null|                  null|                  null|                   null|                  null|                  null|                  null|                   null|                  null|                  null|                  null|                   null|                  null|                  null|                  null|                   null|                       null|                       null|                        null|                       null|                       null|                        null|                        1.0|                       0.36|                        0.85|                        1.0|                       0.72|                        1.28|                        1.0|                        1.0|                         1.0|                        1.0|                        1.0|                         1.0|                       null|                       null|                        null|                       null|                       null|                        null|                       null|                       null|                        null|                       null|                       null|                        null|   202311| 2023-11-15|\n",
            "|         4|   64|        M|                226|              1|Intermediário|    0|     2022-12-12|                 338|                       837|            0.2|     1009.77|      126.22|      199.35|       41.01|                103.19|                103.19|                  291.16|                   97.05|               199.35|               199.35|              48.18|              48.18|             367.89|             183.94|        Roupas|            5|                   103.19|                   103.19|                   103.19|                    103.19|                   103.19|                   103.19|                   103.19|                    103.19|                       null|                       null|                      78.72|                      119.74|                       null|                       null|                      78.72|                       59.87|                    null|                    null|                    null|                     null|                    null|                    null|                    null|                     null|                  null|                  null|                  null|                   null|                  null|                  null|                  null|                   null|                  null|                178.83|                367.89|                 367.89|                  null|                178.83|                183.94|                 183.94|                        1.0|                        1.0|                         1.0|                        1.0|                        1.0|                         1.0|                       null|                       null|                        0.66|                       null|                       null|                        1.31|                       null|                       null|                        null|                       null|                       null|                        null|                       null|                       null|                        null|                       null|                       null|                        null|                       null|                       0.49|                         1.0|                       null|                       0.97|                         1.0|   202311| 2023-11-15|\n",
            "|         5|   61|        M|                474|              1|     Avançado|    0|     2022-12-22|                 328|                      1064|           0.32|     1755.18|      117.01|      170.78|       16.25|                292.37|                146.19|                  707.41|                   117.9|               436.01|                109.0|              16.25|              16.25|             303.13|             151.56|   Eletrônicos|            5|                     null|                     null|                     null|                      null|                     null|                     null|                     null|                      null|                     282.81|                     282.81|                     282.81|                      282.81|                     141.41|                     141.41|                     141.41|                      141.41|                    null|                    null|                  148.03|                   148.03|                    null|                    null|                  148.03|                   148.03|                  null|                  null|                  null|                   null|                  null|                  null|                  null|                   null|                150.11|                150.11|                150.11|                 150.11|                150.11|                150.11|                150.11|                 150.11|                       null|                       null|                        null|                       null|                       null|                        null|                        1.0|                        1.0|                         1.0|                        1.0|                        1.0|                         1.0|                       null|                       null|                         1.0|                       null|                       null|                         1.0|                       null|                       null|                        null|                       null|                       null|                        null|                        1.0|                        1.0|                         1.0|                        1.0|                        1.0|                         1.0|   202311| 2023-11-15|\n",
            "|         6|   18|        M|                419|              0|       Básico|    0|     2022-09-06|                 435|                       915|           0.29|     1841.53|      141.66|      199.29|         8.9|                373.42|                186.71|                  202.33|                  101.16|               395.05|               131.68|             371.56|             185.78|             499.17|             124.79|        Roupas|            5|                     null|                     null|                     null|                      null|                     null|                     null|                     null|                      null|                        8.9|                        8.9|                        8.9|                         8.9|                        8.9|                        8.9|                        8.9|                         8.9|                  127.34|                  127.34|                  127.34|                   127.34|                  127.34|                  127.34|                  127.34|                   127.34|                  null|                  null|                  null|                 199.29|                  null|                  null|                  null|                 199.29|                  null|                  null|                  null|                   null|                  null|                  null|                  null|                   null|                       null|                       null|                        null|                       null|                       null|                        null|                        1.0|                        1.0|                         1.0|                        1.0|                        1.0|                         1.0|                        1.0|                        1.0|                         1.0|                        1.0|                        1.0|                         1.0|                       null|                       null|                        null|                       null|                       null|                        null|                       null|                       null|                        null|                       null|                       null|                        null|   202311| 2023-11-15|\n",
            "|         7|   52|        M|               1334|              0|       Básico|    0|     2022-09-19|                 422|                       975|           0.37|     1671.35|       98.31|      180.02|       21.47|                270.44|                 90.15|                  572.15|                  114.43|                137.2|                 68.6|             463.88|              92.78|             227.68|             113.84|   Eletrônicos|            5|                     null|                    51.54|                    51.54|                     51.54|                     null|                    51.54|                    51.54|                     51.54|                       null|                       null|                      82.49|                      249.04|                       null|                       null|                      82.49|                      124.52|                    97.0|                   137.2|                   137.2|                    137.2|                    97.0|                    68.6|                    68.6|                     68.6|                  null|                  null|                  null|                  92.03|                  null|                  null|                  null|                  92.03|                103.96|                103.96|                103.96|                 103.96|                103.96|                103.96|                103.96|                 103.96|                       null|                        1.0|                         1.0|                       null|                        1.0|                         1.0|                       null|                       null|                        0.33|                       null|                       null|                        0.66|                       0.71|                        1.0|                         1.0|                       1.41|                        1.0|                         1.0|                       null|                       null|                        null|                       null|                       null|                        null|                        1.0|                        1.0|                         1.0|                        1.0|                        1.0|                         1.0|   202311| 2023-11-15|\n",
            "|         8|   44|        M|               1124|              1|Intermediário|    0|     2022-09-18|                 423|                       901|            0.2|      841.03|       93.45|      164.54|       22.74|                113.95|                 56.97|                  388.75|                   97.19|               150.17|               150.17|              69.79|              69.79|             118.38|             118.38|   Eletrônicos|            5|                     null|                     null|                   113.95|                    113.95|                     null|                     null|                    56.97|                     56.97|                      85.86|                     280.67|                     280.67|                      280.67|                      85.86|                      93.56|                      93.56|                       93.56|                    null|                    null|                  150.17|                   150.17|                    null|                    null|                  150.17|                   150.17|                  null|                  null|                  null|                   null|                  null|                  null|                  null|                   null|                  null|                  null|                  null|                   null|                  null|                  null|                  null|                   null|                       null|                       null|                         1.0|                       null|                       null|                         1.0|                       0.31|                        1.0|                         1.0|                       0.92|                        1.0|                         1.0|                       null|                       null|                         1.0|                       null|                       null|                         1.0|                       null|                       null|                        null|                       null|                       null|                        null|                       null|                       null|                        null|                       null|                       null|                        null|   202311| 2023-11-15|\n",
            "|         9|   52|        M|               1256|              1|Intermediário|    0|     2022-08-30|                 442|                       925|           0.24|     1019.13|       92.65|      196.06|       14.62|                172.42|                 43.11|                     0.0|                    null|               286.48|                95.49|             330.45|             165.23|             229.77|             114.88|        Livros|            4|                    51.77|                    51.77|                    87.28|                     87.28|                    51.77|                    51.77|                    43.64|                     43.64|                       null|                       null|                       null|                        null|                       null|                       null|                       null|                        null|                    null|                    null|                    null|                     null|                    null|                    null|                    null|                     null|                330.45|                330.45|                330.45|                 330.45|                165.23|                165.23|                165.23|                 165.23|                  null|                  null|                  null|                   null|                  null|                  null|                  null|                   null|                        1.0|                       0.59|                         1.0|                        1.0|                       1.19|                         1.0|                       null|                       null|                        null|                       null|                       null|                        null|                       null|                       null|                        null|                       null|                       null|                        null|                        1.0|                        1.0|                         1.0|                        1.0|                        1.0|                         1.0|                       null|                       null|                        null|                       null|                       null|                        null|   202311| 2023-11-15|\n",
            "|        10|   64|        F|               1197|              0|       Básico|    0|     2022-10-01|                 410|                       799|            0.1|      416.41|       104.1|      185.66|       15.92|                185.66|                185.66|                   144.9|                   144.9|                  0.0|                 null|              15.92|              15.92|              69.93|              69.93|     Alimentos|            4|                     null|                     null|                     null|                    185.66|                     null|                     null|                     null|                    185.66|                      144.9|                      144.9|                      144.9|                       144.9|                      144.9|                      144.9|                      144.9|                       144.9|                    null|                    null|                    null|                     null|                    null|                    null|                    null|                     null|                  null|                  null|                  null|                   null|                  null|                  null|                  null|                   null|                  null|                  null|                  null|                   null|                  null|                  null|                  null|                   null|                       null|                       null|                        null|                       null|                       null|                        null|                        1.0|                        1.0|                         1.0|                        1.0|                        1.0|                         1.0|                       null|                       null|                        null|                       null|                       null|                        null|                       null|                       null|                        null|                       null|                       null|                        null|                       null|                       null|                        null|                       null|                       null|                        null|   202311| 2023-11-15|\n",
            "|        11|   50|        F|               1820|              1|Intermediário|    0|     2022-08-18|                 454|                       796|           0.17|      903.13|      129.02|      197.28|       29.06|                384.31|                192.16|                     0.0|                    null|                29.06|                29.06|              70.41|              70.41|             419.34|             139.78|        Roupas|            4|                   197.28|                   197.28|                   197.28|                    197.28|                   197.28|                   197.28|                   197.28|                    197.28|                       null|                       null|                       null|                        null|                       null|                       null|                       null|                        null|                    null|                    null|                   29.06|                    29.06|                    null|                    null|                   29.06|                    29.06|                  null|                  null|                  null|                   null|                  null|                  null|                  null|                   null|                 276.0|                419.34|                419.34|                 419.34|                 138.0|                139.78|                139.78|                 139.78|                        1.0|                        1.0|                         1.0|                        1.0|                        1.0|                         1.0|                       null|                       null|                        null|                       null|                       null|                        null|                       null|                       null|                         1.0|                       null|                       null|                         1.0|                       null|                       null|                        null|                       null|                       null|                        null|                       0.66|                        1.0|                         1.0|                       0.99|                        1.0|                         1.0|   202311| 2023-11-15|\n",
            "|        12|   46|        F|                550|              0|     Avançado|    0|     2022-06-02|                 531|                       208|           0.12|      390.06|      130.02|      181.71|       39.81|                 39.81|                 39.81|                  168.55|                  168.55|                  0.0|                 null|                0.0|               null|             181.71|             181.71|        Roupas|            3|                     null|                    39.81|                    39.81|                     39.81|                     null|                    39.81|                    39.81|                     39.81|                       null|                       null|                     168.55|                      168.55|                       null|                       null|                     168.55|                      168.55|                    null|                    null|                    null|                     null|                    null|                    null|                    null|                     null|                  null|                  null|                  null|                   null|                  null|                  null|                  null|                   null|                181.71|                181.71|                181.71|                 181.71|                181.71|                181.71|                181.71|                 181.71|                       null|                        1.0|                         1.0|                       null|                        1.0|                         1.0|                       null|                       null|                         1.0|                       null|                       null|                         1.0|                       null|                       null|                        null|                       null|                       null|                        null|                       null|                       null|                        null|                       null|                       null|                        null|                        1.0|                        1.0|                         1.0|                        1.0|                        1.0|                         1.0|   202311| 2023-11-15|\n",
            "|        13|   65|        M|               1466|              0|     Avançado|    0|     2022-10-17|                 394|                       875|           0.24|      772.55|       77.25|      149.91|       27.54|                 149.7|                  49.9|                   96.98|                   96.98|                55.81|                55.81|             398.88|              99.72|              71.18|              71.18|        Livros|            5|                    58.54|                    58.54|                    86.08|                     86.08|                    58.54|                    58.54|                    43.04|                     43.04|                       null|                       null|                       null|                        null|                       null|                       null|                       null|                        null|                   55.81|                   55.81|                   55.81|                    55.81|                   55.81|                   55.81|                   55.81|                    55.81|                 48.51|                 48.51|                 48.51|                  48.51|                 48.51|                 48.51|                 48.51|                  48.51|                  null|                  null|                 71.18|                  71.18|                  null|                  null|                 71.18|                  71.18|                        1.0|                       0.68|                         1.0|                        1.0|                       1.36|                         1.0|                       null|                       null|                        null|                       null|                       null|                        null|                        1.0|                        1.0|                         1.0|                        1.0|                        1.0|                         1.0|                        1.0|                        1.0|                         1.0|                        1.0|                        1.0|                         1.0|                       null|                       null|                         1.0|                       null|                       null|                         1.0|   202311| 2023-11-15|\n",
            "|        14|   33|        M|               1507|              0|     Avançado|    0|     2021-08-18|                 819|                       334|           0.08|      192.68|       64.23|      127.28|       13.86|                   0.0|                  null|                  178.82|                   89.41|                  0.0|                 null|                0.0|               null|              13.86|              13.86|   Eletrônicos|            2|                     null|                     null|                     null|                      null|                     null|                     null|                     null|                      null|                      51.53|                      51.53|                     178.82|                      178.82|                      51.53|                      51.53|                      89.41|                       89.41|                    null|                    null|                    null|                     null|                    null|                    null|                    null|                     null|                  null|                  null|                  null|                   null|                  null|                  null|                  null|                   null|                  null|                  null|                  null|                  13.86|                  null|                  null|                  null|                  13.86|                       null|                       null|                        null|                       null|                       null|                        null|                        1.0|                       0.29|                         1.0|                        1.0|                       0.58|                         1.0|                       null|                       null|                        null|                       null|                       null|                        null|                       null|                       null|                        null|                       null|                       null|                        null|                       null|                       null|                        null|                       null|                       null|                        null|   202311| 2023-11-15|\n",
            "|        15|   19|        F|               1292|              1|     Avançado|    1|     2021-08-26|                 811|                         0|           0.04|      158.84|      158.84|      158.84|      158.84|                   0.0|                  null|                  158.84|                  158.84|                  0.0|                 null|                0.0|               null|                0.0|               null|   Eletrônicos|            1|                     null|                     null|                     null|                      null|                     null|                     null|                     null|                      null|                     158.84|                     158.84|                     158.84|                      158.84|                     158.84|                     158.84|                     158.84|                      158.84|                    null|                    null|                    null|                     null|                    null|                    null|                    null|                     null|                  null|                  null|                  null|                   null|                  null|                  null|                  null|                   null|                  null|                  null|                  null|                   null|                  null|                  null|                  null|                   null|                       null|                       null|                        null|                       null|                       null|                        null|                        1.0|                        1.0|                         1.0|                        1.0|                        1.0|                         1.0|                       null|                       null|                        null|                       null|                       null|                        null|                       null|                       null|                        null|                       null|                       null|                        null|                       null|                       null|                        null|                       null|                       null|                        null|   202311| 2023-11-15|\n",
            "|        16|   22|        F|               1514|              0|       Básico|    1|     2022-10-19|                 392|                       997|            0.3|     1482.98|      105.93|      183.63|       19.98|                 46.54|                 46.54|                  153.97|                  153.97|               372.95|                93.24|             767.07|             127.85|             142.44|              71.22|        Livros|            5|                     null|                     null|                     null|                      null|                     null|                     null|                     null|                      null|                       null|                       null|                       null|                        null|                       null|                       null|                       null|                        null|                  183.63|                  183.63|                  183.63|                   183.63|                  183.63|                  183.63|                  183.63|                   183.63|                  null|                  null|                295.07|                 461.61|                  null|                  null|                147.53|                 153.87|                 90.82|                 90.82|                 90.82|                  90.82|                 90.82|                 90.82|                 90.82|                  90.82|                       null|                       null|                        null|                       null|                       null|                        null|                       null|                       null|                        null|                       null|                       null|                        null|                        1.0|                        1.0|                         1.0|                        1.0|                        1.0|                         1.0|                       null|                       null|                        0.64|                       null|                       null|                        0.96|                        1.0|                        1.0|                         1.0|                        1.0|                        1.0|                         1.0|   202311| 2023-11-15|\n",
            "|        17|   38|        F|               1483|              0|Intermediário|    1|     2022-11-13|                 367|                       964|           0.29|     1005.44|       77.34|      197.48|       10.01|                 56.55|                 56.55|                   207.5|                  103.75|               318.53|               106.18|             291.45|              72.86|             131.42|              43.81|      Esportes|            5|                     null|                     null|                    56.55|                     56.55|                     null|                     null|                    56.55|                     56.55|                     197.48|                     197.48|                     197.48|                      197.48|                     197.48|                     197.48|                     197.48|                      197.48|                   47.32|                   47.32|                   47.32|                    47.32|                   47.32|                   47.32|                   47.32|                    47.32|                  null|                  null|                  null|                   null|                  null|                  null|                  null|                   null|                  null|                 48.22|                 69.32|                 131.42|                  null|                 48.22|                 34.66|                  43.81|                       null|                       null|                         1.0|                       null|                       null|                         1.0|                        1.0|                        1.0|                         1.0|                        1.0|                        1.0|                         1.0|                        1.0|                        1.0|                         1.0|                        1.0|                        1.0|                         1.0|                       null|                       null|                        null|                       null|                       null|                        null|                       null|                        0.7|                        0.53|                       null|                       1.39|                        0.79|   202311| 2023-11-15|\n",
            "|        18|   44|        F|                 32|              0|Intermediário|    0|     2022-10-21|                 390|                       763|           0.13|      284.77|       56.95|      138.08|       10.88|                 77.69|                 38.84|                     0.0|                    null|                  0.0|                 null|             207.08|              69.03|                0.0|               null|        Livros|            2|                     null|                     null|                     null|                      null|                     null|                     null|                     null|                      null|                       null|                       null|                       null|                        null|                       null|                       null|                       null|                        null|                    null|                    null|                    null|                     null|                    null|                    null|                    null|                     null|                 10.88|                 10.88|                 10.88|                   69.0|                 10.88|                 10.88|                 10.88|                   34.5|                  null|                  null|                  null|                   null|                  null|                  null|                  null|                   null|                       null|                       null|                        null|                       null|                       null|                        null|                       null|                       null|                        null|                       null|                       null|                        null|                       null|                       null|                        null|                       null|                       null|                        null|                        1.0|                        1.0|                        0.16|                        1.0|                        1.0|                        0.32|                       null|                       null|                        null|                       null|                       null|                        null|   202311| 2023-11-15|\n",
            "|        19|   68|        F|               1203|              1|     Avançado|    1|     2022-06-15|                 518|                       851|           0.18|      790.42|        98.8|       194.6|       25.56|                   0.0|                  null|                   194.6|                   194.6|               220.42|                73.47|             185.42|              92.71|             189.98|              94.99|      Esportes|            4|                     null|                     null|                     null|                      null|                     null|                     null|                     null|                      null|                       null|                       null|                       null|                        null|                       null|                       null|                       null|                        null|                   57.63|                   57.63|                   57.63|                    57.63|                   57.63|                   57.63|                   57.63|                    57.63|                  null|                  null|                 95.86|                  95.86|                  null|                  null|                 95.86|                  95.86|                  89.0|                  89.0|                  89.0|                   89.0|                  89.0|                  89.0|                  89.0|                   89.0|                       null|                       null|                        null|                       null|                       null|                        null|                       null|                       null|                        null|                       null|                       null|                        null|                        1.0|                        1.0|                         1.0|                        1.0|                        1.0|                         1.0|                       null|                       null|                         1.0|                       null|                       null|                         1.0|                        1.0|                        1.0|                         1.0|                        1.0|                        1.0|                         1.0|   202311| 2023-11-15|\n",
            "|        20|   35|        F|               1157|              1|     Avançado|    1|     2022-09-22|                 419|                       878|           0.28|      979.35|       81.61|      172.52|        5.49|                273.51|                136.75|                   92.75|                   30.92|               476.36|               119.09|              71.01|              71.01|              65.73|              32.86|      Esportes|            5|                     null|                   172.52|                   172.52|                    273.51|                     null|                   172.52|                   172.52|                    136.75|                       null|                       null|                      52.49|                       52.49|                       null|                       null|                      52.49|                       52.49|                  155.72|                  155.72|                  155.72|                   284.58|                  155.72|                  155.72|                  155.72|                   142.29|                  null|                  null|                  null|                   null|                  null|                  null|                  null|                   null|                  null|                  null|                  null|                   null|                  null|                  null|                  null|                   null|                       null|                        1.0|                        0.63|                       null|                        1.0|                        1.26|                       null|                       null|                         1.0|                       null|                       null|                         1.0|                        1.0|                        1.0|                        0.55|                        1.0|                        1.0|                        1.09|                       null|                       null|                        null|                       null|                       null|                        null|                       null|                       null|                        null|                       null|                       null|                        null|   202311| 2023-11-15|\n",
            "+----------+-----+---------+-------------------+---------------+-------------+-----+---------------+--------------------+--------------------------+---------------+------------+------------+------------+------------+----------------------+----------------------+------------------------+------------------------+---------------------+---------------------+-------------------+-------------------+-------------------+-------------------+--------------+-------------+-------------------------+-------------------------+-------------------------+--------------------------+-------------------------+-------------------------+-------------------------+--------------------------+---------------------------+---------------------------+---------------------------+----------------------------+---------------------------+---------------------------+---------------------------+----------------------------+------------------------+------------------------+------------------------+-------------------------+------------------------+------------------------+------------------------+-------------------------+----------------------+----------------------+----------------------+-----------------------+----------------------+----------------------+----------------------+-----------------------+----------------------+----------------------+----------------------+-----------------------+----------------------+----------------------+----------------------+-----------------------+---------------------------+---------------------------+----------------------------+---------------------------+---------------------------+----------------------------+---------------------------+---------------------------+----------------------------+---------------------------+---------------------------+----------------------------+---------------------------+---------------------------+----------------------------+---------------------------+---------------------------+----------------------------+---------------------------+---------------------------+----------------------------+---------------------------+---------------------------+----------------------------+---------------------------+---------------------------+----------------------------+---------------------------+---------------------------+----------------------------+---------+-----------+\n",
            "only showing top 20 rows\n",
            "\n"
          ]
        }
      ]
    },
    {
      "cell_type": "markdown",
      "source": [
        "**Salvando a tabela no diretório do Drive.**"
      ],
      "metadata": {
        "id": "1c9N7uh9VeuQ"
      }
    },
    {
      "cell_type": "code",
      "source": [
        "# Salvando um diretório ABT com as partições em parquet.\n",
        "abt_churn.write.partitionBy('PK_DATREF').parquet('/content/drive/MyDrive/abt_churn')"
      ],
      "metadata": {
        "id": "0PkDnMcJVgpk"
      },
      "execution_count": 90,
      "outputs": []
    }
  ]
}